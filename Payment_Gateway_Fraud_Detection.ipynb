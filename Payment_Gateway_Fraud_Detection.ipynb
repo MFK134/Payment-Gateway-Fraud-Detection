{
 "cells": [
  {
   "cell_type": "markdown",
   "id": "ea049e77",
   "metadata": {},
   "source": [
    "# Payment_Gateway_Fraud_Detection"
   ]
  },
  {
   "cell_type": "markdown",
   "id": "4b855c7b",
   "metadata": {},
   "source": [
    "###### Importing Required libraries:--"
   ]
  },
  {
   "cell_type": "code",
   "execution_count": 1,
   "id": "16a7cc69",
   "metadata": {},
   "outputs": [],
   "source": [
    "import pandas as pd\n",
    "import numpy as np\n",
    "import matplotlib.pyplot as plt\n",
    "import seaborn as sns"
   ]
  },
  {
   "cell_type": "markdown",
   "id": "1497a429",
   "metadata": {},
   "source": [
    "##### Read the Data"
   ]
  },
  {
   "cell_type": "code",
   "execution_count": 2,
   "id": "bf1207ee",
   "metadata": {},
   "outputs": [],
   "source": [
    "train = pd.read_csv(\"C:/Users/ADMIN/Desktop/Insofe/Hackathon/Payment_gateway_hack/Payment_gateway_hack/train_data.csv\")"
   ]
  },
  {
   "cell_type": "code",
   "execution_count": 3,
   "id": "add4de40",
   "metadata": {},
   "outputs": [
    {
     "data": {
      "text/html": [
       "<div>\n",
       "<style scoped>\n",
       "    .dataframe tbody tr th:only-of-type {\n",
       "        vertical-align: middle;\n",
       "    }\n",
       "\n",
       "    .dataframe tbody tr th {\n",
       "        vertical-align: top;\n",
       "    }\n",
       "\n",
       "    .dataframe thead th {\n",
       "        text-align: right;\n",
       "    }\n",
       "</style>\n",
       "<table border=\"1\" class=\"dataframe\">\n",
       "  <thead>\n",
       "    <tr style=\"text-align: right;\">\n",
       "      <th></th>\n",
       "      <th>transaction_number</th>\n",
       "      <th>user_id</th>\n",
       "      <th>payment_method</th>\n",
       "      <th>partner_id</th>\n",
       "      <th>partner_category</th>\n",
       "      <th>country</th>\n",
       "      <th>device_type</th>\n",
       "      <th>money_transacted</th>\n",
       "      <th>partner_pricing_category</th>\n",
       "      <th>is_fraud</th>\n",
       "    </tr>\n",
       "  </thead>\n",
       "  <tbody>\n",
       "    <tr>\n",
       "      <th>0</th>\n",
       "      <td>3.580000e+12</td>\n",
       "      <td>2356225</td>\n",
       "      <td>other_debit_cards</td>\n",
       "      <td>118335</td>\n",
       "      <td>cat_1</td>\n",
       "      <td>IND_INR</td>\n",
       "      <td>other_pcs</td>\n",
       "      <td>197217.76</td>\n",
       "      <td>2</td>\n",
       "      <td>1</td>\n",
       "    </tr>\n",
       "    <tr>\n",
       "      <th>1</th>\n",
       "      <td>2.600000e+15</td>\n",
       "      <td>2356225</td>\n",
       "      <td>other_debit_cards</td>\n",
       "      <td>118335</td>\n",
       "      <td>cat_1</td>\n",
       "      <td>IND_INR</td>\n",
       "      <td>other_pcs</td>\n",
       "      <td>197000.00</td>\n",
       "      <td>2</td>\n",
       "      <td>1</td>\n",
       "    </tr>\n",
       "    <tr>\n",
       "      <th>2</th>\n",
       "      <td>9.100000e+14</td>\n",
       "      <td>2356225</td>\n",
       "      <td>other_debit_cards</td>\n",
       "      <td>118335</td>\n",
       "      <td>cat_1</td>\n",
       "      <td>IND_INR</td>\n",
       "      <td>other_pcs</td>\n",
       "      <td>196000.00</td>\n",
       "      <td>2</td>\n",
       "      <td>1</td>\n",
       "    </tr>\n",
       "    <tr>\n",
       "      <th>3</th>\n",
       "      <td>1.750000e+13</td>\n",
       "      <td>5978025</td>\n",
       "      <td>other_debit_cards</td>\n",
       "      <td>118335</td>\n",
       "      <td>cat_1</td>\n",
       "      <td>IND_INR</td>\n",
       "      <td>other_pcs</td>\n",
       "      <td>172000.00</td>\n",
       "      <td>2</td>\n",
       "      <td>1</td>\n",
       "    </tr>\n",
       "    <tr>\n",
       "      <th>4</th>\n",
       "      <td>4.340000e+11</td>\n",
       "      <td>826281</td>\n",
       "      <td>visa_master_debit_cards</td>\n",
       "      <td>118335</td>\n",
       "      <td>cat_1</td>\n",
       "      <td>IND_INR</td>\n",
       "      <td>other_pcs</td>\n",
       "      <td>140000.00</td>\n",
       "      <td>2</td>\n",
       "      <td>1</td>\n",
       "    </tr>\n",
       "  </tbody>\n",
       "</table>\n",
       "</div>"
      ],
      "text/plain": [
       "   transaction_number  user_id           payment_method  partner_id  \\\n",
       "0        3.580000e+12  2356225        other_debit_cards      118335   \n",
       "1        2.600000e+15  2356225        other_debit_cards      118335   \n",
       "2        9.100000e+14  2356225        other_debit_cards      118335   \n",
       "3        1.750000e+13  5978025        other_debit_cards      118335   \n",
       "4        4.340000e+11   826281  visa_master_debit_cards      118335   \n",
       "\n",
       "  partner_category  country device_type  money_transacted  \\\n",
       "0            cat_1  IND_INR   other_pcs         197217.76   \n",
       "1            cat_1  IND_INR   other_pcs         197000.00   \n",
       "2            cat_1  IND_INR   other_pcs         196000.00   \n",
       "3            cat_1  IND_INR   other_pcs         172000.00   \n",
       "4            cat_1  IND_INR   other_pcs         140000.00   \n",
       "\n",
       "   partner_pricing_category  is_fraud  \n",
       "0                         2         1  \n",
       "1                         2         1  \n",
       "2                         2         1  \n",
       "3                         2         1  \n",
       "4                         2         1  "
      ]
     },
     "execution_count": 3,
     "metadata": {},
     "output_type": "execute_result"
    }
   ],
   "source": [
    "train.head()"
   ]
  },
  {
   "cell_type": "markdown",
   "id": "73a51621",
   "metadata": {},
   "source": [
    "### Exploratory Data Analysis"
   ]
  },
  {
   "cell_type": "code",
   "execution_count": 4,
   "id": "05b6b1a5",
   "metadata": {},
   "outputs": [
    {
     "name": "stdout",
     "output_type": "stream",
     "text": [
      "<class 'pandas.core.frame.DataFrame'>\n",
      "RangeIndex: 76529 entries, 0 to 76528\n",
      "Data columns (total 10 columns):\n",
      " #   Column                    Non-Null Count  Dtype  \n",
      "---  ------                    --------------  -----  \n",
      " 0   transaction_number        76529 non-null  float64\n",
      " 1   user_id                   76529 non-null  int64  \n",
      " 2   payment_method            76529 non-null  object \n",
      " 3   partner_id                76529 non-null  int64  \n",
      " 4   partner_category          76529 non-null  object \n",
      " 5   country                   76529 non-null  object \n",
      " 6   device_type               76529 non-null  object \n",
      " 7   money_transacted          76529 non-null  float64\n",
      " 8   partner_pricing_category  76529 non-null  int64  \n",
      " 9   is_fraud                  76529 non-null  int64  \n",
      "dtypes: float64(2), int64(4), object(4)\n",
      "memory usage: 5.8+ MB\n"
     ]
    }
   ],
   "source": [
    "# Information of data\n",
    "\n",
    "train.info()"
   ]
  },
  {
   "cell_type": "code",
   "execution_count": 5,
   "id": "b772bc1a",
   "metadata": {},
   "outputs": [
    {
     "data": {
      "text/html": [
       "<div>\n",
       "<style scoped>\n",
       "    .dataframe tbody tr th:only-of-type {\n",
       "        vertical-align: middle;\n",
       "    }\n",
       "\n",
       "    .dataframe tbody tr th {\n",
       "        vertical-align: top;\n",
       "    }\n",
       "\n",
       "    .dataframe thead th {\n",
       "        text-align: right;\n",
       "    }\n",
       "</style>\n",
       "<table border=\"1\" class=\"dataframe\">\n",
       "  <thead>\n",
       "    <tr style=\"text-align: right;\">\n",
       "      <th></th>\n",
       "      <th>count</th>\n",
       "      <th>mean</th>\n",
       "      <th>std</th>\n",
       "      <th>min</th>\n",
       "      <th>25%</th>\n",
       "      <th>50%</th>\n",
       "      <th>75%</th>\n",
       "      <th>max</th>\n",
       "    </tr>\n",
       "  </thead>\n",
       "  <tbody>\n",
       "    <tr>\n",
       "      <th>transaction_number</th>\n",
       "      <td>76529.0</td>\n",
       "      <td>6.940168e+14</td>\n",
       "      <td>7.867854e+14</td>\n",
       "      <td>8.0</td>\n",
       "      <td>4.390000e+13</td>\n",
       "      <td>3.450000e+14</td>\n",
       "      <td>1.170000e+15</td>\n",
       "      <td>2.780000e+15</td>\n",
       "    </tr>\n",
       "    <tr>\n",
       "      <th>user_id</th>\n",
       "      <td>76529.0</td>\n",
       "      <td>1.247483e+07</td>\n",
       "      <td>1.205878e+07</td>\n",
       "      <td>1.0</td>\n",
       "      <td>3.515625e+06</td>\n",
       "      <td>9.753129e+06</td>\n",
       "      <td>1.788444e+07</td>\n",
       "      <td>5.592048e+07</td>\n",
       "    </tr>\n",
       "    <tr>\n",
       "      <th>partner_id</th>\n",
       "      <td>76529.0</td>\n",
       "      <td>5.849719e+04</td>\n",
       "      <td>3.674022e+04</td>\n",
       "      <td>7889.0</td>\n",
       "      <td>2.366700e+04</td>\n",
       "      <td>4.733400e+04</td>\n",
       "      <td>7.889000e+04</td>\n",
       "      <td>2.130030e+05</td>\n",
       "    </tr>\n",
       "    <tr>\n",
       "      <th>money_transacted</th>\n",
       "      <td>76529.0</td>\n",
       "      <td>1.327243e+02</td>\n",
       "      <td>2.350111e+03</td>\n",
       "      <td>-20000.0</td>\n",
       "      <td>-1.000000e+00</td>\n",
       "      <td>2.000000e+01</td>\n",
       "      <td>5.200000e+01</td>\n",
       "      <td>1.972178e+05</td>\n",
       "    </tr>\n",
       "    <tr>\n",
       "      <th>partner_pricing_category</th>\n",
       "      <td>76529.0</td>\n",
       "      <td>2.255707e+00</td>\n",
       "      <td>7.321743e-01</td>\n",
       "      <td>0.0</td>\n",
       "      <td>2.000000e+00</td>\n",
       "      <td>2.000000e+00</td>\n",
       "      <td>2.000000e+00</td>\n",
       "      <td>4.000000e+00</td>\n",
       "    </tr>\n",
       "    <tr>\n",
       "      <th>is_fraud</th>\n",
       "      <td>76529.0</td>\n",
       "      <td>2.012309e-03</td>\n",
       "      <td>4.481390e-02</td>\n",
       "      <td>0.0</td>\n",
       "      <td>0.000000e+00</td>\n",
       "      <td>0.000000e+00</td>\n",
       "      <td>0.000000e+00</td>\n",
       "      <td>1.000000e+00</td>\n",
       "    </tr>\n",
       "  </tbody>\n",
       "</table>\n",
       "</div>"
      ],
      "text/plain": [
       "                            count          mean           std      min  \\\n",
       "transaction_number        76529.0  6.940168e+14  7.867854e+14      8.0   \n",
       "user_id                   76529.0  1.247483e+07  1.205878e+07      1.0   \n",
       "partner_id                76529.0  5.849719e+04  3.674022e+04   7889.0   \n",
       "money_transacted          76529.0  1.327243e+02  2.350111e+03 -20000.0   \n",
       "partner_pricing_category  76529.0  2.255707e+00  7.321743e-01      0.0   \n",
       "is_fraud                  76529.0  2.012309e-03  4.481390e-02      0.0   \n",
       "\n",
       "                                   25%           50%           75%  \\\n",
       "transaction_number        4.390000e+13  3.450000e+14  1.170000e+15   \n",
       "user_id                   3.515625e+06  9.753129e+06  1.788444e+07   \n",
       "partner_id                2.366700e+04  4.733400e+04  7.889000e+04   \n",
       "money_transacted         -1.000000e+00  2.000000e+01  5.200000e+01   \n",
       "partner_pricing_category  2.000000e+00  2.000000e+00  2.000000e+00   \n",
       "is_fraud                  0.000000e+00  0.000000e+00  0.000000e+00   \n",
       "\n",
       "                                   max  \n",
       "transaction_number        2.780000e+15  \n",
       "user_id                   5.592048e+07  \n",
       "partner_id                2.130030e+05  \n",
       "money_transacted          1.972178e+05  \n",
       "partner_pricing_category  4.000000e+00  \n",
       "is_fraud                  1.000000e+00  "
      ]
     },
     "execution_count": 5,
     "metadata": {},
     "output_type": "execute_result"
    }
   ],
   "source": [
    "train.describe().T"
   ]
  },
  {
   "cell_type": "code",
   "execution_count": 6,
   "id": "66328864",
   "metadata": {},
   "outputs": [
    {
     "data": {
      "text/plain": [
       "(76529, 10)"
      ]
     },
     "execution_count": 6,
     "metadata": {},
     "output_type": "execute_result"
    }
   ],
   "source": [
    "train.shape"
   ]
  },
  {
   "cell_type": "code",
   "execution_count": 7,
   "id": "533eb13b",
   "metadata": {},
   "outputs": [
    {
     "data": {
      "text/plain": [
       "transaction_number          float64\n",
       "user_id                       int64\n",
       "payment_method               object\n",
       "partner_id                    int64\n",
       "partner_category             object\n",
       "country                      object\n",
       "device_type                  object\n",
       "money_transacted            float64\n",
       "partner_pricing_category      int64\n",
       "is_fraud                      int64\n",
       "dtype: object"
      ]
     },
     "execution_count": 7,
     "metadata": {},
     "output_type": "execute_result"
    }
   ],
   "source": [
    "train.dtypes"
   ]
  },
  {
   "cell_type": "code",
   "execution_count": 8,
   "id": "1cb4e317",
   "metadata": {},
   "outputs": [
    {
     "data": {
      "text/plain": [
       "transaction_number          0\n",
       "user_id                     0\n",
       "payment_method              0\n",
       "partner_id                  0\n",
       "partner_category            0\n",
       "country                     0\n",
       "device_type                 0\n",
       "money_transacted            0\n",
       "partner_pricing_category    0\n",
       "is_fraud                    0\n",
       "dtype: int64"
      ]
     },
     "execution_count": 8,
     "metadata": {},
     "output_type": "execute_result"
    }
   ],
   "source": [
    "#It shoiws the null values\n",
    "\n",
    "train.isnull().sum()"
   ]
  },
  {
   "cell_type": "code",
   "execution_count": 9,
   "id": "b14aa3b9",
   "metadata": {},
   "outputs": [
    {
     "data": {
      "text/plain": [
       "transaction_number          0\n",
       "user_id                     0\n",
       "payment_method              0\n",
       "partner_id                  0\n",
       "partner_category            0\n",
       "country                     0\n",
       "device_type                 0\n",
       "money_transacted            0\n",
       "partner_pricing_category    0\n",
       "is_fraud                    0\n",
       "dtype: int64"
      ]
     },
     "execution_count": 9,
     "metadata": {},
     "output_type": "execute_result"
    }
   ],
   "source": [
    "#It shows the NaN values\n",
    "\n",
    "train.isna().sum()"
   ]
  },
  {
   "cell_type": "code",
   "execution_count": 10,
   "id": "1a0bec11",
   "metadata": {},
   "outputs": [
    {
     "data": {
      "text/plain": [
       "804"
      ]
     },
     "execution_count": 10,
     "metadata": {},
     "output_type": "execute_result"
    }
   ],
   "source": [
    "#It shows the is there any duplicate values\n",
    "\n",
    "train.duplicated().sum()"
   ]
  },
  {
   "cell_type": "code",
   "execution_count": 11,
   "id": "5c23fbe3",
   "metadata": {},
   "outputs": [],
   "source": [
    "# Drops the duplicate values\n",
    "\n",
    "train.drop_duplicates(inplace = True)"
   ]
  },
  {
   "cell_type": "code",
   "execution_count": 12,
   "id": "e83db690",
   "metadata": {},
   "outputs": [
    {
     "data": {
      "text/plain": [
       "0"
      ]
     },
     "execution_count": 12,
     "metadata": {},
     "output_type": "execute_result"
    }
   ],
   "source": [
    "train.duplicated().sum()"
   ]
  },
  {
   "cell_type": "code",
   "execution_count": 13,
   "id": "3f5b4915",
   "metadata": {},
   "outputs": [
    {
     "data": {
      "text/plain": [
       "(75725, 10)"
      ]
     },
     "execution_count": 13,
     "metadata": {},
     "output_type": "execute_result"
    }
   ],
   "source": [
    "\n",
    "train.shape"
   ]
  },
  {
   "cell_type": "code",
   "execution_count": 14,
   "id": "378f2a0a",
   "metadata": {},
   "outputs": [
    {
     "data": {
      "text/plain": [
       "transaction_number          6347\n",
       "user_id                     3594\n",
       "payment_method                 6\n",
       "partner_id                    23\n",
       "partner_category               9\n",
       "country                        1\n",
       "device_type                    4\n",
       "money_transacted            1454\n",
       "partner_pricing_category       4\n",
       "is_fraud                       2\n",
       "dtype: int64"
      ]
     },
     "execution_count": 14,
     "metadata": {},
     "output_type": "execute_result"
    }
   ],
   "source": [
    "#it shows the how many unique values\n",
    "\n",
    "train.nunique()"
   ]
  },
  {
   "cell_type": "code",
   "execution_count": 15,
   "id": "6f6fa040",
   "metadata": {},
   "outputs": [
    {
     "data": {
      "text/html": [
       "<div>\n",
       "<style scoped>\n",
       "    .dataframe tbody tr th:only-of-type {\n",
       "        vertical-align: middle;\n",
       "    }\n",
       "\n",
       "    .dataframe tbody tr th {\n",
       "        vertical-align: top;\n",
       "    }\n",
       "\n",
       "    .dataframe thead th {\n",
       "        text-align: right;\n",
       "    }\n",
       "</style>\n",
       "<table border=\"1\" class=\"dataframe\">\n",
       "  <thead>\n",
       "    <tr style=\"text-align: right;\">\n",
       "      <th></th>\n",
       "      <th>user_id</th>\n",
       "      <th>payment_method</th>\n",
       "      <th>partner_id</th>\n",
       "      <th>partner_category</th>\n",
       "      <th>country</th>\n",
       "      <th>device_type</th>\n",
       "      <th>money_transacted</th>\n",
       "      <th>partner_pricing_category</th>\n",
       "      <th>is_fraud</th>\n",
       "    </tr>\n",
       "    <tr>\n",
       "      <th>transaction_number</th>\n",
       "      <th></th>\n",
       "      <th></th>\n",
       "      <th></th>\n",
       "      <th></th>\n",
       "      <th></th>\n",
       "      <th></th>\n",
       "      <th></th>\n",
       "      <th></th>\n",
       "      <th></th>\n",
       "    </tr>\n",
       "  </thead>\n",
       "  <tbody>\n",
       "    <tr>\n",
       "      <th>8.000000e+00</th>\n",
       "      <td>1</td>\n",
       "      <td>1</td>\n",
       "      <td>1</td>\n",
       "      <td>1</td>\n",
       "      <td>1</td>\n",
       "      <td>1</td>\n",
       "      <td>1</td>\n",
       "      <td>1</td>\n",
       "      <td>1</td>\n",
       "    </tr>\n",
       "    <tr>\n",
       "      <th>2.700000e+01</th>\n",
       "      <td>1</td>\n",
       "      <td>1</td>\n",
       "      <td>1</td>\n",
       "      <td>1</td>\n",
       "      <td>1</td>\n",
       "      <td>1</td>\n",
       "      <td>1</td>\n",
       "      <td>1</td>\n",
       "      <td>1</td>\n",
       "    </tr>\n",
       "    <tr>\n",
       "      <th>6.400000e+01</th>\n",
       "      <td>1</td>\n",
       "      <td>1</td>\n",
       "      <td>1</td>\n",
       "      <td>1</td>\n",
       "      <td>1</td>\n",
       "      <td>1</td>\n",
       "      <td>1</td>\n",
       "      <td>1</td>\n",
       "      <td>1</td>\n",
       "    </tr>\n",
       "    <tr>\n",
       "      <th>1.250000e+02</th>\n",
       "      <td>1</td>\n",
       "      <td>1</td>\n",
       "      <td>1</td>\n",
       "      <td>1</td>\n",
       "      <td>1</td>\n",
       "      <td>1</td>\n",
       "      <td>1</td>\n",
       "      <td>1</td>\n",
       "      <td>1</td>\n",
       "    </tr>\n",
       "    <tr>\n",
       "      <th>2.160000e+02</th>\n",
       "      <td>1</td>\n",
       "      <td>1</td>\n",
       "      <td>1</td>\n",
       "      <td>1</td>\n",
       "      <td>1</td>\n",
       "      <td>1</td>\n",
       "      <td>1</td>\n",
       "      <td>1</td>\n",
       "      <td>1</td>\n",
       "    </tr>\n",
       "    <tr>\n",
       "      <th>...</th>\n",
       "      <td>...</td>\n",
       "      <td>...</td>\n",
       "      <td>...</td>\n",
       "      <td>...</td>\n",
       "      <td>...</td>\n",
       "      <td>...</td>\n",
       "      <td>...</td>\n",
       "      <td>...</td>\n",
       "      <td>...</td>\n",
       "    </tr>\n",
       "    <tr>\n",
       "      <th>2.740000e+15</th>\n",
       "      <td>89</td>\n",
       "      <td>89</td>\n",
       "      <td>89</td>\n",
       "      <td>89</td>\n",
       "      <td>89</td>\n",
       "      <td>89</td>\n",
       "      <td>89</td>\n",
       "      <td>89</td>\n",
       "      <td>89</td>\n",
       "    </tr>\n",
       "    <tr>\n",
       "      <th>2.750000e+15</th>\n",
       "      <td>94</td>\n",
       "      <td>94</td>\n",
       "      <td>94</td>\n",
       "      <td>94</td>\n",
       "      <td>94</td>\n",
       "      <td>94</td>\n",
       "      <td>94</td>\n",
       "      <td>94</td>\n",
       "      <td>94</td>\n",
       "    </tr>\n",
       "    <tr>\n",
       "      <th>2.760000e+15</th>\n",
       "      <td>95</td>\n",
       "      <td>95</td>\n",
       "      <td>95</td>\n",
       "      <td>95</td>\n",
       "      <td>95</td>\n",
       "      <td>95</td>\n",
       "      <td>95</td>\n",
       "      <td>95</td>\n",
       "      <td>95</td>\n",
       "    </tr>\n",
       "    <tr>\n",
       "      <th>2.770000e+15</th>\n",
       "      <td>79</td>\n",
       "      <td>79</td>\n",
       "      <td>79</td>\n",
       "      <td>79</td>\n",
       "      <td>79</td>\n",
       "      <td>79</td>\n",
       "      <td>79</td>\n",
       "      <td>79</td>\n",
       "      <td>79</td>\n",
       "    </tr>\n",
       "    <tr>\n",
       "      <th>2.780000e+15</th>\n",
       "      <td>75</td>\n",
       "      <td>75</td>\n",
       "      <td>75</td>\n",
       "      <td>75</td>\n",
       "      <td>75</td>\n",
       "      <td>75</td>\n",
       "      <td>75</td>\n",
       "      <td>75</td>\n",
       "      <td>75</td>\n",
       "    </tr>\n",
       "  </tbody>\n",
       "</table>\n",
       "<p>6347 rows × 9 columns</p>\n",
       "</div>"
      ],
      "text/plain": [
       "                    user_id  payment_method  partner_id  partner_category  \\\n",
       "transaction_number                                                          \n",
       "8.000000e+00              1               1           1                 1   \n",
       "2.700000e+01              1               1           1                 1   \n",
       "6.400000e+01              1               1           1                 1   \n",
       "1.250000e+02              1               1           1                 1   \n",
       "2.160000e+02              1               1           1                 1   \n",
       "...                     ...             ...         ...               ...   \n",
       "2.740000e+15             89              89          89                89   \n",
       "2.750000e+15             94              94          94                94   \n",
       "2.760000e+15             95              95          95                95   \n",
       "2.770000e+15             79              79          79                79   \n",
       "2.780000e+15             75              75          75                75   \n",
       "\n",
       "                    country  device_type  money_transacted  \\\n",
       "transaction_number                                           \n",
       "8.000000e+00              1            1                 1   \n",
       "2.700000e+01              1            1                 1   \n",
       "6.400000e+01              1            1                 1   \n",
       "1.250000e+02              1            1                 1   \n",
       "2.160000e+02              1            1                 1   \n",
       "...                     ...          ...               ...   \n",
       "2.740000e+15             89           89                89   \n",
       "2.750000e+15             94           94                94   \n",
       "2.760000e+15             95           95                95   \n",
       "2.770000e+15             79           79                79   \n",
       "2.780000e+15             75           75                75   \n",
       "\n",
       "                    partner_pricing_category  is_fraud  \n",
       "transaction_number                                      \n",
       "8.000000e+00                               1         1  \n",
       "2.700000e+01                               1         1  \n",
       "6.400000e+01                               1         1  \n",
       "1.250000e+02                               1         1  \n",
       "2.160000e+02                               1         1  \n",
       "...                                      ...       ...  \n",
       "2.740000e+15                              89        89  \n",
       "2.750000e+15                              94        94  \n",
       "2.760000e+15                              95        95  \n",
       "2.770000e+15                              79        79  \n",
       "2.780000e+15                              75        75  \n",
       "\n",
       "[6347 rows x 9 columns]"
      ]
     },
     "execution_count": 15,
     "metadata": {},
     "output_type": "execute_result"
    }
   ],
   "source": [
    "train.groupby('transaction_number').count()"
   ]
  },
  {
   "cell_type": "code",
   "execution_count": 16,
   "id": "20401df1",
   "metadata": {},
   "outputs": [
    {
     "data": {
      "text/plain": [
       "['user_id', 'partner_id', 'partner_pricing_category', 'is_fraud']"
      ]
     },
     "execution_count": 16,
     "metadata": {},
     "output_type": "execute_result"
    }
   ],
   "source": [
    "# for numerical attributes\n",
    "\n",
    "num_att= [var for var in train.columns if train[var].dtype=='int64']\n",
    "num_att"
   ]
  },
  {
   "cell_type": "code",
   "execution_count": 17,
   "id": "dbbc6462",
   "metadata": {},
   "outputs": [],
   "source": [
    "#converting object datatype to category\n",
    "\n",
    "categorical = train.select_dtypes(include = 'object').columns\n",
    "train[categorical] = train[categorical].astype('category')"
   ]
  },
  {
   "cell_type": "code",
   "execution_count": 18,
   "id": "2d3e2e18",
   "metadata": {},
   "outputs": [
    {
     "data": {
      "text/plain": [
       "transaction_number           float64\n",
       "user_id                        int64\n",
       "payment_method              category\n",
       "partner_id                     int64\n",
       "partner_category            category\n",
       "country                     category\n",
       "device_type                 category\n",
       "money_transacted             float64\n",
       "partner_pricing_category       int64\n",
       "is_fraud                       int64\n",
       "dtype: object"
      ]
     },
     "execution_count": 18,
     "metadata": {},
     "output_type": "execute_result"
    }
   ],
   "source": [
    "train.dtypes"
   ]
  },
  {
   "cell_type": "markdown",
   "id": "1572ab3d",
   "metadata": {},
   "source": [
    "# visualizations"
   ]
  },
  {
   "cell_type": "code",
   "execution_count": 19,
   "id": "6012bbfc",
   "metadata": {},
   "outputs": [
    {
     "data": {
      "image/png": "[encoded data removed]",
      "text/plain": [
       "<Figure size 1080x1080 with 9 Axes>"
      ]
     },
     "metadata": {
      "needs_background": "light"
     },
     "output_type": "display_data"
    }
   ],
   "source": [
    "train.plot(kind ='box',subplots = True,sharex= False,sharey=False,layout=(3,3),figsize=(15,15))\n",
    "plt.show()"
   ]
  },
  {
   "cell_type": "code",
   "execution_count": 20,
   "id": "620a1006",
   "metadata": {},
   "outputs": [
    {
     "data": {
      "image/png": "[encoded data removed]",
      "text/plain": [
       "<Figure size 1080x1080 with 9 Axes>"
      ]
     },
     "metadata": {
      "needs_background": "light"
     },
     "output_type": "display_data"
    }
   ],
   "source": [
    "train.plot(kind ='hist',subplots = True,sharex= False,sharey=False,layout=(3,3),figsize=(15,15))\n",
    "plt.show()"
   ]
  },
  {
   "cell_type": "code",
   "execution_count": 21,
   "id": "b01f4307",
   "metadata": {},
   "outputs": [
    {
     "data": {
      "text/plain": [
       "<AxesSubplot:xlabel='is_fraud', ylabel='count'>"
      ]
     },
     "execution_count": 21,
     "metadata": {},
     "output_type": "execute_result"
    },
    {
     "data": {
      "image/png": "[encoded data removed]",
      "text/plain": [
       "<Figure size 432x288 with 1 Axes>"
      ]
     },
     "metadata": {
      "needs_background": "light"
     },
     "output_type": "display_data"
    }
   ],
   "source": [
    "sns.countplot(x='is_fraud',data=train)"
   ]
  },
  {
   "cell_type": "code",
   "execution_count": 22,
   "id": "89c14af6",
   "metadata": {
    "scrolled": true
   },
   "outputs": [
    {
     "name": "stderr",
     "output_type": "stream",
     "text": [
      "C:\\Users\\ADMIN\\anaconda3\\lib\\site-packages\\seaborn\\distributions.py:2557: FutureWarning: `distplot` is a deprecated function and will be removed in a future version. Please adapt your code to use either `displot` (a figure-level function with similar flexibility) or `histplot` (an axes-level function for histograms).\n",
      "  warnings.warn(msg, FutureWarning)\n"
     ]
    },
    {
     "data": {
      "image/png": "[encoded data removed]",
      "text/plain": [
       "<Figure size 432x288 with 1 Axes>"
      ]
     },
     "metadata": {
      "needs_background": "light"
     },
     "output_type": "display_data"
    }
   ],
   "source": [
    "#Density plot\n",
    "sns.distplot(a=train.money_transacted)\n",
    "plt.show()"
   ]
  },
  {
   "cell_type": "code",
   "execution_count": 23,
   "id": "4e1f15ac",
   "metadata": {},
   "outputs": [
    {
     "data": {
      "image/png": "[encoded data removed]",
      "text/plain": [
       "<Figure size 432x288 with 2 Axes>"
      ]
     },
     "metadata": {
      "needs_background": "light"
     },
     "output_type": "display_data"
    }
   ],
   "source": [
    "sns.heatmap(train.corr(),annot=True,cmap='Greens')\n",
    "plt.show()"
   ]
  },
  {
   "cell_type": "code",
   "execution_count": 24,
   "id": "995a68dc",
   "metadata": {},
   "outputs": [],
   "source": [
    "#for LabelEncoding\n",
    "from sklearn.preprocessing import LabelEncoder\n",
    "\n",
    "label_encoder = LabelEncoder()"
   ]
  },
  {
   "cell_type": "code",
   "execution_count": 25,
   "id": "b24a7fd8",
   "metadata": {},
   "outputs": [
    {
     "data": {
      "text/plain": [
       "Index(['payment_method', 'partner_category', 'country', 'device_type'], dtype='object')"
      ]
     },
     "execution_count": 25,
     "metadata": {},
     "output_type": "execute_result"
    }
   ],
   "source": [
    "data_n = train.select_dtypes(exclude=np.number).columns\n",
    "data_n"
   ]
  },
  {
   "cell_type": "code",
   "execution_count": 26,
   "id": "34ab9ad6",
   "metadata": {
    "scrolled": true
   },
   "outputs": [
    {
     "data": {
      "text/html": [
       "<div>\n",
       "<style scoped>\n",
       "    .dataframe tbody tr th:only-of-type {\n",
       "        vertical-align: middle;\n",
       "    }\n",
       "\n",
       "    .dataframe tbody tr th {\n",
       "        vertical-align: top;\n",
       "    }\n",
       "\n",
       "    .dataframe thead th {\n",
       "        text-align: right;\n",
       "    }\n",
       "</style>\n",
       "<table border=\"1\" class=\"dataframe\">\n",
       "  <thead>\n",
       "    <tr style=\"text-align: right;\">\n",
       "      <th></th>\n",
       "      <th>transaction_number</th>\n",
       "      <th>user_id</th>\n",
       "      <th>payment_method</th>\n",
       "      <th>partner_id</th>\n",
       "      <th>partner_category</th>\n",
       "      <th>country</th>\n",
       "      <th>device_type</th>\n",
       "      <th>money_transacted</th>\n",
       "      <th>partner_pricing_category</th>\n",
       "      <th>is_fraud</th>\n",
       "    </tr>\n",
       "  </thead>\n",
       "  <tbody>\n",
       "    <tr>\n",
       "      <th>0</th>\n",
       "      <td>3.580000e+12</td>\n",
       "      <td>2356225</td>\n",
       "      <td>1</td>\n",
       "      <td>118335</td>\n",
       "      <td>0</td>\n",
       "      <td>0</td>\n",
       "      <td>2</td>\n",
       "      <td>197217.76</td>\n",
       "      <td>2</td>\n",
       "      <td>1</td>\n",
       "    </tr>\n",
       "    <tr>\n",
       "      <th>1</th>\n",
       "      <td>2.600000e+15</td>\n",
       "      <td>2356225</td>\n",
       "      <td>1</td>\n",
       "      <td>118335</td>\n",
       "      <td>0</td>\n",
       "      <td>0</td>\n",
       "      <td>2</td>\n",
       "      <td>197000.00</td>\n",
       "      <td>2</td>\n",
       "      <td>1</td>\n",
       "    </tr>\n",
       "    <tr>\n",
       "      <th>2</th>\n",
       "      <td>9.100000e+14</td>\n",
       "      <td>2356225</td>\n",
       "      <td>1</td>\n",
       "      <td>118335</td>\n",
       "      <td>0</td>\n",
       "      <td>0</td>\n",
       "      <td>2</td>\n",
       "      <td>196000.00</td>\n",
       "      <td>2</td>\n",
       "      <td>1</td>\n",
       "    </tr>\n",
       "    <tr>\n",
       "      <th>3</th>\n",
       "      <td>1.750000e+13</td>\n",
       "      <td>5978025</td>\n",
       "      <td>1</td>\n",
       "      <td>118335</td>\n",
       "      <td>0</td>\n",
       "      <td>0</td>\n",
       "      <td>2</td>\n",
       "      <td>172000.00</td>\n",
       "      <td>2</td>\n",
       "      <td>1</td>\n",
       "    </tr>\n",
       "    <tr>\n",
       "      <th>4</th>\n",
       "      <td>4.340000e+11</td>\n",
       "      <td>826281</td>\n",
       "      <td>5</td>\n",
       "      <td>118335</td>\n",
       "      <td>0</td>\n",
       "      <td>0</td>\n",
       "      <td>2</td>\n",
       "      <td>140000.00</td>\n",
       "      <td>2</td>\n",
       "      <td>1</td>\n",
       "    </tr>\n",
       "  </tbody>\n",
       "</table>\n",
       "</div>"
      ],
      "text/plain": [
       "   transaction_number  user_id  payment_method  partner_id  partner_category  \\\n",
       "0        3.580000e+12  2356225               1      118335                 0   \n",
       "1        2.600000e+15  2356225               1      118335                 0   \n",
       "2        9.100000e+14  2356225               1      118335                 0   \n",
       "3        1.750000e+13  5978025               1      118335                 0   \n",
       "4        4.340000e+11   826281               5      118335                 0   \n",
       "\n",
       "   country  device_type  money_transacted  partner_pricing_category  is_fraud  \n",
       "0        0            2         197217.76                         2         1  \n",
       "1        0            2         197000.00                         2         1  \n",
       "2        0            2         196000.00                         2         1  \n",
       "3        0            2         172000.00                         2         1  \n",
       "4        0            2         140000.00                         2         1  "
      ]
     },
     "execution_count": 26,
     "metadata": {},
     "output_type": "execute_result"
    }
   ],
   "source": [
    "for i in data_n:\n",
    "    train[i] = label_encoder.fit_transform(train[i])\n",
    "train.head()\n"
   ]
  },
  {
   "cell_type": "code",
   "execution_count": 27,
   "id": "614f0d07",
   "metadata": {},
   "outputs": [
    {
     "data": {
      "text/html": [
       "<div>\n",
       "<style scoped>\n",
       "    .dataframe tbody tr th:only-of-type {\n",
       "        vertical-align: middle;\n",
       "    }\n",
       "\n",
       "    .dataframe tbody tr th {\n",
       "        vertical-align: top;\n",
       "    }\n",
       "\n",
       "    .dataframe thead th {\n",
       "        text-align: right;\n",
       "    }\n",
       "</style>\n",
       "<table border=\"1\" class=\"dataframe\">\n",
       "  <thead>\n",
       "    <tr style=\"text-align: right;\">\n",
       "      <th></th>\n",
       "      <th>transaction_number</th>\n",
       "      <th>user_id</th>\n",
       "      <th>payment_method</th>\n",
       "      <th>partner_id</th>\n",
       "      <th>partner_category</th>\n",
       "      <th>country</th>\n",
       "      <th>device_type</th>\n",
       "      <th>money_transacted</th>\n",
       "      <th>partner_pricing_category</th>\n",
       "      <th>is_fraud</th>\n",
       "    </tr>\n",
       "  </thead>\n",
       "  <tbody>\n",
       "    <tr>\n",
       "      <th>0</th>\n",
       "      <td>3.580000e+12</td>\n",
       "      <td>2356225</td>\n",
       "      <td>1</td>\n",
       "      <td>118335</td>\n",
       "      <td>0</td>\n",
       "      <td>0</td>\n",
       "      <td>2</td>\n",
       "      <td>197217.76</td>\n",
       "      <td>2</td>\n",
       "      <td>1</td>\n",
       "    </tr>\n",
       "    <tr>\n",
       "      <th>1</th>\n",
       "      <td>2.600000e+15</td>\n",
       "      <td>2356225</td>\n",
       "      <td>1</td>\n",
       "      <td>118335</td>\n",
       "      <td>0</td>\n",
       "      <td>0</td>\n",
       "      <td>2</td>\n",
       "      <td>197000.00</td>\n",
       "      <td>2</td>\n",
       "      <td>1</td>\n",
       "    </tr>\n",
       "    <tr>\n",
       "      <th>2</th>\n",
       "      <td>9.100000e+14</td>\n",
       "      <td>2356225</td>\n",
       "      <td>1</td>\n",
       "      <td>118335</td>\n",
       "      <td>0</td>\n",
       "      <td>0</td>\n",
       "      <td>2</td>\n",
       "      <td>196000.00</td>\n",
       "      <td>2</td>\n",
       "      <td>1</td>\n",
       "    </tr>\n",
       "    <tr>\n",
       "      <th>3</th>\n",
       "      <td>1.750000e+13</td>\n",
       "      <td>5978025</td>\n",
       "      <td>1</td>\n",
       "      <td>118335</td>\n",
       "      <td>0</td>\n",
       "      <td>0</td>\n",
       "      <td>2</td>\n",
       "      <td>172000.00</td>\n",
       "      <td>2</td>\n",
       "      <td>1</td>\n",
       "    </tr>\n",
       "    <tr>\n",
       "      <th>4</th>\n",
       "      <td>4.340000e+11</td>\n",
       "      <td>826281</td>\n",
       "      <td>5</td>\n",
       "      <td>118335</td>\n",
       "      <td>0</td>\n",
       "      <td>0</td>\n",
       "      <td>2</td>\n",
       "      <td>140000.00</td>\n",
       "      <td>2</td>\n",
       "      <td>1</td>\n",
       "    </tr>\n",
       "    <tr>\n",
       "      <th>...</th>\n",
       "      <td>...</td>\n",
       "      <td>...</td>\n",
       "      <td>...</td>\n",
       "      <td>...</td>\n",
       "      <td>...</td>\n",
       "      <td>...</td>\n",
       "      <td>...</td>\n",
       "      <td>...</td>\n",
       "      <td>...</td>\n",
       "      <td>...</td>\n",
       "    </tr>\n",
       "    <tr>\n",
       "      <th>76524</th>\n",
       "      <td>4.020000e+14</td>\n",
       "      <td>53860921</td>\n",
       "      <td>2</td>\n",
       "      <td>78890</td>\n",
       "      <td>1</td>\n",
       "      <td>0</td>\n",
       "      <td>0</td>\n",
       "      <td>-10000.00</td>\n",
       "      <td>4</td>\n",
       "      <td>1</td>\n",
       "    </tr>\n",
       "    <tr>\n",
       "      <th>76525</th>\n",
       "      <td>6.740000e+14</td>\n",
       "      <td>54774801</td>\n",
       "      <td>2</td>\n",
       "      <td>23667</td>\n",
       "      <td>1</td>\n",
       "      <td>0</td>\n",
       "      <td>0</td>\n",
       "      <td>-10000.00</td>\n",
       "      <td>4</td>\n",
       "      <td>1</td>\n",
       "    </tr>\n",
       "    <tr>\n",
       "      <th>76526</th>\n",
       "      <td>2.020000e+15</td>\n",
       "      <td>55190041</td>\n",
       "      <td>2</td>\n",
       "      <td>23667</td>\n",
       "      <td>1</td>\n",
       "      <td>0</td>\n",
       "      <td>0</td>\n",
       "      <td>-10000.00</td>\n",
       "      <td>0</td>\n",
       "      <td>1</td>\n",
       "    </tr>\n",
       "    <tr>\n",
       "      <th>76527</th>\n",
       "      <td>1.850000e+14</td>\n",
       "      <td>53860921</td>\n",
       "      <td>2</td>\n",
       "      <td>23667</td>\n",
       "      <td>1</td>\n",
       "      <td>0</td>\n",
       "      <td>0</td>\n",
       "      <td>-18000.00</td>\n",
       "      <td>4</td>\n",
       "      <td>1</td>\n",
       "    </tr>\n",
       "    <tr>\n",
       "      <th>76528</th>\n",
       "      <td>3.690000e+13</td>\n",
       "      <td>53846244</td>\n",
       "      <td>2</td>\n",
       "      <td>23667</td>\n",
       "      <td>1</td>\n",
       "      <td>0</td>\n",
       "      <td>0</td>\n",
       "      <td>-20000.00</td>\n",
       "      <td>4</td>\n",
       "      <td>0</td>\n",
       "    </tr>\n",
       "  </tbody>\n",
       "</table>\n",
       "<p>75725 rows × 10 columns</p>\n",
       "</div>"
      ],
      "text/plain": [
       "       transaction_number   user_id  payment_method  partner_id  \\\n",
       "0            3.580000e+12   2356225               1      118335   \n",
       "1            2.600000e+15   2356225               1      118335   \n",
       "2            9.100000e+14   2356225               1      118335   \n",
       "3            1.750000e+13   5978025               1      118335   \n",
       "4            4.340000e+11    826281               5      118335   \n",
       "...                   ...       ...             ...         ...   \n",
       "76524        4.020000e+14  53860921               2       78890   \n",
       "76525        6.740000e+14  54774801               2       23667   \n",
       "76526        2.020000e+15  55190041               2       23667   \n",
       "76527        1.850000e+14  53860921               2       23667   \n",
       "76528        3.690000e+13  53846244               2       23667   \n",
       "\n",
       "       partner_category  country  device_type  money_transacted  \\\n",
       "0                     0        0            2         197217.76   \n",
       "1                     0        0            2         197000.00   \n",
       "2                     0        0            2         196000.00   \n",
       "3                     0        0            2         172000.00   \n",
       "4                     0        0            2         140000.00   \n",
       "...                 ...      ...          ...               ...   \n",
       "76524                 1        0            0         -10000.00   \n",
       "76525                 1        0            0         -10000.00   \n",
       "76526                 1        0            0         -10000.00   \n",
       "76527                 1        0            0         -18000.00   \n",
       "76528                 1        0            0         -20000.00   \n",
       "\n",
       "       partner_pricing_category  is_fraud  \n",
       "0                             2         1  \n",
       "1                             2         1  \n",
       "2                             2         1  \n",
       "3                             2         1  \n",
       "4                             2         1  \n",
       "...                         ...       ...  \n",
       "76524                         4         1  \n",
       "76525                         4         1  \n",
       "76526                         0         1  \n",
       "76527                         4         1  \n",
       "76528                         4         0  \n",
       "\n",
       "[75725 rows x 10 columns]"
      ]
     },
     "execution_count": 27,
     "metadata": {},
     "output_type": "execute_result"
    }
   ],
   "source": [
    "train['payment_method'] = label_encoder.fit_transform(train['payment_method'])\n",
    "train"
   ]
  },
  {
   "cell_type": "markdown",
   "id": "6c83f5e0",
   "metadata": {},
   "source": [
    "### Clean the data and seperate the data into Independent and Dependent columns"
   ]
  },
  {
   "cell_type": "code",
   "execution_count": 28,
   "id": "241c1a96",
   "metadata": {},
   "outputs": [],
   "source": [
    "X = train.drop(['is_fraud','country'],axis=1) #independent variable\n",
    "y = train['is_fraud'] #dependent variable"
   ]
  },
  {
   "cell_type": "code",
   "execution_count": 29,
   "id": "207265c0",
   "metadata": {},
   "outputs": [],
   "source": [
    "from sklearn.model_selection import train_test_split\n",
    "X_train,X_test,y_train,y_test = train_test_split(X,y,test_size=0.2,random_state=11234)"
   ]
  },
  {
   "cell_type": "code",
   "execution_count": 30,
   "id": "0e227860",
   "metadata": {},
   "outputs": [
    {
     "name": "stdout",
     "output_type": "stream",
     "text": [
      "(60580, 8)\n",
      "(15145, 8)\n",
      "(60580,)\n",
      "(15145,)\n"
     ]
    }
   ],
   "source": [
    "print(X_train.shape)\n",
    "print(X_test.shape)\n",
    "print(y_train.shape)\n",
    "print(y_test.shape)"
   ]
  },
  {
   "cell_type": "code",
   "execution_count": 31,
   "id": "1e34c3b2",
   "metadata": {},
   "outputs": [],
   "source": [
    "import statsmodels.api as sm"
   ]
  },
  {
   "cell_type": "code",
   "execution_count": 32,
   "id": "83a47bdd",
   "metadata": {},
   "outputs": [],
   "source": [
    "X_reg=sm.add_constant(X_train)\n",
    "X_test_reg=sm.add_constant(X_test)"
   ]
  },
  {
   "cell_type": "markdown",
   "id": "f70dcf76",
   "metadata": {},
   "source": [
    "### Building the LogisticRegression model"
   ]
  },
  {
   "cell_type": "code",
   "execution_count": 33,
   "id": "3d79b5a1",
   "metadata": {},
   "outputs": [],
   "source": [
    "from sklearn.linear_model import LogisticRegression"
   ]
  },
  {
   "cell_type": "code",
   "execution_count": 34,
   "id": "fda093a4",
   "metadata": {},
   "outputs": [],
   "source": [
    "lr_model = LogisticRegression(solver='liblinear',random_state=1230)"
   ]
  },
  {
   "cell_type": "code",
   "execution_count": 35,
   "id": "fba37e6d",
   "metadata": {
    "scrolled": false
   },
   "outputs": [],
   "source": [
    "Model_1=lr_model.fit(X_train,y_train)"
   ]
  },
  {
   "cell_type": "code",
   "execution_count": 36,
   "id": "e779f6a4",
   "metadata": {},
   "outputs": [],
   "source": [
    "\n",
    "\n",
    "y_train_Pred = lr_model.predict(X_train)\n",
    "y_test_Pred = lr_model.predict(X_test)"
   ]
  },
  {
   "cell_type": "code",
   "execution_count": 37,
   "id": "bb4281da",
   "metadata": {},
   "outputs": [
    {
     "name": "stdout",
     "output_type": "stream",
     "text": [
      "Confusion matrix\n",
      "\n",
      " [[15117     0]\n",
      " [   28     0]]\n",
      "\n",
      "True Positives(TP) =  15117\n",
      "\n",
      "True Negatives(TN) =  0\n",
      "\n",
      "False Positives(FP) =  0\n",
      "\n",
      "False Negatives(FN) =  28\n"
     ]
    }
   ],
   "source": [
    "from sklearn.metrics import confusion_matrix,f1_score\n",
    "cm = confusion_matrix(y_test, y_test_Pred)\n",
    "\n",
    "print('Confusion matrix\\n\\n', cm)\n",
    "\n",
    "\n",
    "print('\\nTrue Positives(TP) = ', cm[0,0])\n",
    "\n",
    "print('\\nTrue Negatives(TN) = ', cm[1,1])\n",
    "\n",
    "print('\\nFalse Positives(FP) = ', cm[0,1])\n",
    "\n",
    "print('\\nFalse Negatives(FN) = ', cm[1,0])"
   ]
  },
  {
   "cell_type": "code",
   "execution_count": 38,
   "id": "ac76b7a3",
   "metadata": {},
   "outputs": [
    {
     "name": "stdout",
     "output_type": "stream",
     "text": [
      "========Train=======\n",
      "Accuracy of model 1 \n",
      "0.9979201056454275\n",
      "========Test=======\n",
      "Accuracy of model 1 \n",
      "0.9981512050181578\n"
     ]
    }
   ],
   "source": [
    "from sklearn.metrics import confusion_matrix, accuracy_score , r2_score, recall_score,precision_score,f1_score\n",
    "\n",
    "print('========Train=======')\n",
    "print(f\"Accuracy of model 1 \\n{accuracy_score(y_train, y_train_Pred)}\")\n",
    "\n",
    "print('========Test=======')\n",
    "print(f\"Accuracy of model 1 \\n{accuracy_score(y_test, y_test_Pred)}\")"
   ]
  },
  {
   "cell_type": "code",
   "execution_count": 39,
   "id": "4ddc0267",
   "metadata": {},
   "outputs": [
    {
     "name": "stdout",
     "output_type": "stream",
     "text": [
      "              precision    recall  f1-score   support\n",
      "\n",
      "           0       1.00      1.00      1.00     15117\n",
      "           1       0.00      0.00      0.00        28\n",
      "\n",
      "    accuracy                           1.00     15145\n",
      "   macro avg       0.50      0.50      0.50     15145\n",
      "weighted avg       1.00      1.00      1.00     15145\n",
      "\n"
     ]
    },
    {
     "name": "stderr",
     "output_type": "stream",
     "text": [
      "C:\\Users\\ADMIN\\anaconda3\\lib\\site-packages\\sklearn\\metrics\\_classification.py:1245: UndefinedMetricWarning: Precision and F-score are ill-defined and being set to 0.0 in labels with no predicted samples. Use `zero_division` parameter to control this behavior.\n",
      "  _warn_prf(average, modifier, msg_start, len(result))\n",
      "C:\\Users\\ADMIN\\anaconda3\\lib\\site-packages\\sklearn\\metrics\\_classification.py:1245: UndefinedMetricWarning: Precision and F-score are ill-defined and being set to 0.0 in labels with no predicted samples. Use `zero_division` parameter to control this behavior.\n",
      "  _warn_prf(average, modifier, msg_start, len(result))\n",
      "C:\\Users\\ADMIN\\anaconda3\\lib\\site-packages\\sklearn\\metrics\\_classification.py:1245: UndefinedMetricWarning: Precision and F-score are ill-defined and being set to 0.0 in labels with no predicted samples. Use `zero_division` parameter to control this behavior.\n",
      "  _warn_prf(average, modifier, msg_start, len(result))\n"
     ]
    }
   ],
   "source": [
    "from sklearn.metrics import classification_report\n",
    "\n",
    "print(classification_report(y_test, y_test_Pred))"
   ]
  },
  {
   "cell_type": "code",
   "execution_count": 40,
   "id": "ac75d0fe",
   "metadata": {},
   "outputs": [
    {
     "data": {
      "image/png": "[encoded data removed]",
      "text/plain": [
       "<Figure size 432x288 with 1 Axes>"
      ]
     },
     "metadata": {
      "needs_background": "light"
     },
     "output_type": "display_data"
    }
   ],
   "source": [
    "from sklearn.metrics import roc_auc_score\n",
    "from sklearn.metrics import roc_curve\n",
    "logit_roc_auc = roc_auc_score(y_test, lr_model.predict(X_test))\n",
    "fpr, tpr, thresholds = roc_curve(y_test, lr_model.predict_proba(X_test)[:, 1])\n",
    "plt.figure()\n",
    "plt.plot(fpr, tpr, label='Logistic Regression (area = %0.2f)' % logit_roc_auc)\n",
    "plt.plot([0, 1], [0, 1],'r--')\n",
    "plt.xlim([0.0, 1.0])\n",
    "plt.ylim([0.0, 1.05])\n",
    "plt.xlabel('False Positive Rate')\n",
    "plt.ylabel('True Positive Rate')\n",
    "plt.title('Receiver operating characteristic')\n",
    "plt.legend(loc=\"lower right\")\n",
    "plt.savefig('Log_ROC')\n",
    "plt.show()"
   ]
  },
  {
   "cell_type": "code",
   "execution_count": 41,
   "id": "2702db2a",
   "metadata": {},
   "outputs": [],
   "source": [
    "from sklearn import metrics\n",
    "import numpy as np\n",
    "scores = pd.DataFrame(columns=['Model','Train_Accuracy','Train_Recall','Train_Precision','Train_F1_Score','Test_Accuracy','Test_Recall','Test_Precision','Test_F1_Score'])\n",
    "\n",
    "def get_metrics(train_actual,train_predicted,test_actual,test_predicted,model_description,dataframe):\n",
    "    train_accuracy = accuracy_score(train_actual,train_predicted)\n",
    "    train_recall   = recall_score(train_actual,train_predicted,average=\"weighted\")\n",
    "    train_precision= precision_score(train_actual,train_predicted,average=\"weighted\")\n",
    "    train_f1score  = f1_score(train_actual,train_predicted,average=\"weighted\")\n",
    "    test_accuracy = accuracy_score(test_actual,test_predicted)\n",
    "    test_recall   = recall_score(test_actual,test_predicted,average=\"weighted\")\n",
    "    test_precision= precision_score(test_actual,test_predicted,average=\"weighted\")\n",
    "    test_f1score  = f1_score(test_actual,test_predicted,average=\"weighted\")\n",
    "    dataframe = dataframe.append(pd.Series([model_description, train_accuracy,train_recall,train_precision,train_f1score,\n",
    "                                            test_accuracy,test_recall,test_precision,test_f1score],\n",
    "                                           index=scores.columns ), ignore_index=True)\n",
    "    return(dataframe)"
   ]
  },
  {
   "cell_type": "code",
   "execution_count": 42,
   "id": "8993c1f6",
   "metadata": {},
   "outputs": [
    {
     "name": "stderr",
     "output_type": "stream",
     "text": [
      "C:\\Users\\ADMIN\\anaconda3\\lib\\site-packages\\sklearn\\metrics\\_classification.py:1245: UndefinedMetricWarning: Precision is ill-defined and being set to 0.0 in labels with no predicted samples. Use `zero_division` parameter to control this behavior.\n",
      "  _warn_prf(average, modifier, msg_start, len(result))\n",
      "C:\\Users\\ADMIN\\anaconda3\\lib\\site-packages\\sklearn\\metrics\\_classification.py:1245: UndefinedMetricWarning: Precision is ill-defined and being set to 0.0 in labels with no predicted samples. Use `zero_division` parameter to control this behavior.\n",
      "  _warn_prf(average, modifier, msg_start, len(result))\n"
     ]
    },
    {
     "data": {
      "text/html": [
       "<div>\n",
       "<style scoped>\n",
       "    .dataframe tbody tr th:only-of-type {\n",
       "        vertical-align: middle;\n",
       "    }\n",
       "\n",
       "    .dataframe tbody tr th {\n",
       "        vertical-align: top;\n",
       "    }\n",
       "\n",
       "    .dataframe thead th {\n",
       "        text-align: right;\n",
       "    }\n",
       "</style>\n",
       "<table border=\"1\" class=\"dataframe\">\n",
       "  <thead>\n",
       "    <tr style=\"text-align: right;\">\n",
       "      <th></th>\n",
       "      <th>Model</th>\n",
       "      <th>Train_Accuracy</th>\n",
       "      <th>Train_Recall</th>\n",
       "      <th>Train_Precision</th>\n",
       "      <th>Train_F1_Score</th>\n",
       "      <th>Test_Accuracy</th>\n",
       "      <th>Test_Recall</th>\n",
       "      <th>Test_Precision</th>\n",
       "      <th>Test_F1_Score</th>\n",
       "    </tr>\n",
       "  </thead>\n",
       "  <tbody>\n",
       "    <tr>\n",
       "      <th>0</th>\n",
       "      <td>LogisticRegression</td>\n",
       "      <td>0.99792</td>\n",
       "      <td>0.99792</td>\n",
       "      <td>0.995845</td>\n",
       "      <td>0.996881</td>\n",
       "      <td>0.998151</td>\n",
       "      <td>0.998151</td>\n",
       "      <td>0.996306</td>\n",
       "      <td>0.997228</td>\n",
       "    </tr>\n",
       "  </tbody>\n",
       "</table>\n",
       "</div>"
      ],
      "text/plain": [
       "                Model  Train_Accuracy  Train_Recall  Train_Precision  \\\n",
       "0  LogisticRegression         0.99792       0.99792         0.995845   \n",
       "\n",
       "   Train_F1_Score  Test_Accuracy  Test_Recall  Test_Precision  Test_F1_Score  \n",
       "0        0.996881       0.998151     0.998151        0.996306       0.997228  "
      ]
     },
     "execution_count": 42,
     "metadata": {},
     "output_type": "execute_result"
    }
   ],
   "source": [
    "scores = get_metrics(y_train,y_train_Pred,y_test,y_test_Pred ,\"LogisticRegression\",scores)\n",
    "scores"
   ]
  },
  {
   "cell_type": "code",
   "execution_count": null,
   "id": "00efa9a5",
   "metadata": {},
   "outputs": [],
   "source": []
  },
  {
   "cell_type": "markdown",
   "id": "42d07bb8",
   "metadata": {},
   "source": [
    "# Decision TREE"
   ]
  },
  {
   "cell_type": "code",
   "execution_count": 43,
   "id": "3f7fc325",
   "metadata": {},
   "outputs": [],
   "source": [
    "from sklearn.tree import DecisionTreeClassifier\n",
    "\n",
    "dt = DecisionTreeClassifier(criterion= 'entropy', max_depth=10)"
   ]
  },
  {
   "cell_type": "code",
   "execution_count": 44,
   "id": "a73e25ef",
   "metadata": {},
   "outputs": [
    {
     "data": {
      "text/plain": [
       "DecisionTreeClassifier(criterion='entropy', max_depth=10)"
      ]
     },
     "execution_count": 44,
     "metadata": {},
     "output_type": "execute_result"
    }
   ],
   "source": [
    "dt.fit(X_train, y_train)"
   ]
  },
  {
   "cell_type": "code",
   "execution_count": 45,
   "id": "15e8d876",
   "metadata": {},
   "outputs": [
    {
     "data": {
      "text/plain": [
       "array([0.01569428, 0.03305337, 0.0162735 , 0.        , 0.00212411,\n",
       "       0.        , 0.93096221, 0.00189254])"
      ]
     },
     "execution_count": 45,
     "metadata": {},
     "output_type": "execute_result"
    }
   ],
   "source": [
    "dt.feature_importances_"
   ]
  },
  {
   "cell_type": "code",
   "execution_count": 46,
   "id": "7258c7ad",
   "metadata": {},
   "outputs": [
    {
     "data": {
      "text/plain": [
       "money_transacted            0.930962\n",
       "user_id                     0.033053\n",
       "payment_method              0.016273\n",
       "transaction_number          0.015694\n",
       "partner_category            0.002124\n",
       "partner_pricing_category    0.001893\n",
       "partner_id                  0.000000\n",
       "device_type                 0.000000\n",
       "dtype: float64"
      ]
     },
     "execution_count": 46,
     "metadata": {},
     "output_type": "execute_result"
    }
   ],
   "source": [
    "feature_scores = pd.Series(dt.feature_importances_,\n",
    "                           index=X_train.columns).sort_values(ascending=False)\n",
    "\n",
    "feature_scores "
   ]
  },
  {
   "cell_type": "code",
   "execution_count": 47,
   "id": "d5b1efb3",
   "metadata": {},
   "outputs": [
    {
     "data": {
      "text/html": [
       "<div>\n",
       "<style scoped>\n",
       "    .dataframe tbody tr th:only-of-type {\n",
       "        vertical-align: middle;\n",
       "    }\n",
       "\n",
       "    .dataframe tbody tr th {\n",
       "        vertical-align: top;\n",
       "    }\n",
       "\n",
       "    .dataframe thead th {\n",
       "        text-align: right;\n",
       "    }\n",
       "</style>\n",
       "<table border=\"1\" class=\"dataframe\">\n",
       "  <thead>\n",
       "    <tr style=\"text-align: right;\">\n",
       "      <th></th>\n",
       "      <th>Feature_names</th>\n",
       "      <th>Importances</th>\n",
       "    </tr>\n",
       "  </thead>\n",
       "  <tbody>\n",
       "    <tr>\n",
       "      <th>0</th>\n",
       "      <td>transaction_number</td>\n",
       "      <td>0.015694</td>\n",
       "    </tr>\n",
       "    <tr>\n",
       "      <th>1</th>\n",
       "      <td>user_id</td>\n",
       "      <td>0.033053</td>\n",
       "    </tr>\n",
       "    <tr>\n",
       "      <th>2</th>\n",
       "      <td>payment_method</td>\n",
       "      <td>0.016273</td>\n",
       "    </tr>\n",
       "    <tr>\n",
       "      <th>3</th>\n",
       "      <td>partner_id</td>\n",
       "      <td>0.000000</td>\n",
       "    </tr>\n",
       "    <tr>\n",
       "      <th>4</th>\n",
       "      <td>partner_category</td>\n",
       "      <td>0.002124</td>\n",
       "    </tr>\n",
       "    <tr>\n",
       "      <th>5</th>\n",
       "      <td>device_type</td>\n",
       "      <td>0.000000</td>\n",
       "    </tr>\n",
       "    <tr>\n",
       "      <th>6</th>\n",
       "      <td>money_transacted</td>\n",
       "      <td>0.930962</td>\n",
       "    </tr>\n",
       "    <tr>\n",
       "      <th>7</th>\n",
       "      <td>partner_pricing_category</td>\n",
       "      <td>0.001893</td>\n",
       "    </tr>\n",
       "  </tbody>\n",
       "</table>\n",
       "</div>"
      ],
      "text/plain": [
       "              Feature_names  Importances\n",
       "0        transaction_number     0.015694\n",
       "1                   user_id     0.033053\n",
       "2            payment_method     0.016273\n",
       "3                partner_id     0.000000\n",
       "4          partner_category     0.002124\n",
       "5               device_type     0.000000\n",
       "6          money_transacted     0.930962\n",
       "7  partner_pricing_category     0.001893"
      ]
     },
     "execution_count": 47,
     "metadata": {},
     "output_type": "execute_result"
    }
   ],
   "source": [
    "feature_scores = pd.DataFrame({'Feature_names':X_train.columns,'Importances':dt.feature_importances_})\n",
    "feature_scores"
   ]
  },
  {
   "cell_type": "code",
   "execution_count": 48,
   "id": "ec0c0c82",
   "metadata": {},
   "outputs": [
    {
     "data": {
      "text/html": [
       "<div>\n",
       "<style scoped>\n",
       "    .dataframe tbody tr th:only-of-type {\n",
       "        vertical-align: middle;\n",
       "    }\n",
       "\n",
       "    .dataframe tbody tr th {\n",
       "        vertical-align: top;\n",
       "    }\n",
       "\n",
       "    .dataframe thead th {\n",
       "        text-align: right;\n",
       "    }\n",
       "</style>\n",
       "<table border=\"1\" class=\"dataframe\">\n",
       "  <thead>\n",
       "    <tr style=\"text-align: right;\">\n",
       "      <th></th>\n",
       "      <th>Feature_names</th>\n",
       "      <th>Importances</th>\n",
       "    </tr>\n",
       "  </thead>\n",
       "  <tbody>\n",
       "    <tr>\n",
       "      <th>6</th>\n",
       "      <td>money_transacted</td>\n",
       "      <td>0.930962</td>\n",
       "    </tr>\n",
       "    <tr>\n",
       "      <th>1</th>\n",
       "      <td>user_id</td>\n",
       "      <td>0.033053</td>\n",
       "    </tr>\n",
       "    <tr>\n",
       "      <th>2</th>\n",
       "      <td>payment_method</td>\n",
       "      <td>0.016273</td>\n",
       "    </tr>\n",
       "    <tr>\n",
       "      <th>0</th>\n",
       "      <td>transaction_number</td>\n",
       "      <td>0.015694</td>\n",
       "    </tr>\n",
       "    <tr>\n",
       "      <th>4</th>\n",
       "      <td>partner_category</td>\n",
       "      <td>0.002124</td>\n",
       "    </tr>\n",
       "    <tr>\n",
       "      <th>7</th>\n",
       "      <td>partner_pricing_category</td>\n",
       "      <td>0.001893</td>\n",
       "    </tr>\n",
       "    <tr>\n",
       "      <th>3</th>\n",
       "      <td>partner_id</td>\n",
       "      <td>0.000000</td>\n",
       "    </tr>\n",
       "    <tr>\n",
       "      <th>5</th>\n",
       "      <td>device_type</td>\n",
       "      <td>0.000000</td>\n",
       "    </tr>\n",
       "  </tbody>\n",
       "</table>\n",
       "</div>"
      ],
      "text/plain": [
       "              Feature_names  Importances\n",
       "6          money_transacted     0.930962\n",
       "1                   user_id     0.033053\n",
       "2            payment_method     0.016273\n",
       "0        transaction_number     0.015694\n",
       "4          partner_category     0.002124\n",
       "7  partner_pricing_category     0.001893\n",
       "3                partner_id     0.000000\n",
       "5               device_type     0.000000"
      ]
     },
     "execution_count": 48,
     "metadata": {},
     "output_type": "execute_result"
    }
   ],
   "source": [
    "feature_scores.sort_values(by='Importances',ascending = False)"
   ]
  },
  {
   "cell_type": "code",
   "execution_count": 49,
   "id": "01d7dc41",
   "metadata": {},
   "outputs": [],
   "source": [
    "y_train_predds = dt.predict(X_train)\n",
    "y_test_predds = dt.predict(X_test)"
   ]
  },
  {
   "cell_type": "code",
   "execution_count": 50,
   "id": "9a848f37",
   "metadata": {},
   "outputs": [
    {
     "name": "stdout",
     "output_type": "stream",
     "text": [
      "              precision    recall  f1-score   support\n",
      "\n",
      "           0       1.00      1.00      1.00     60454\n",
      "           1       1.00      0.98      0.99       126\n",
      "\n",
      "    accuracy                           1.00     60580\n",
      "   macro avg       1.00      0.99      1.00     60580\n",
      "weighted avg       1.00      1.00      1.00     60580\n",
      "\n"
     ]
    }
   ],
   "source": [
    "from sklearn.metrics import classification_report,confusion_matrix\n",
    "\n",
    "print(classification_report(y_train, y_train_predds))"
   ]
  },
  {
   "cell_type": "code",
   "execution_count": 51,
   "id": "247ea837",
   "metadata": {},
   "outputs": [
    {
     "name": "stdout",
     "output_type": "stream",
     "text": [
      "              precision    recall  f1-score   support\n",
      "\n",
      "           0       1.00      1.00      1.00     15117\n",
      "           1       0.89      0.89      0.89        28\n",
      "\n",
      "    accuracy                           1.00     15145\n",
      "   macro avg       0.95      0.95      0.95     15145\n",
      "weighted avg       1.00      1.00      1.00     15145\n",
      "\n"
     ]
    }
   ],
   "source": [
    "print(classification_report(y_test, y_test_predds))"
   ]
  },
  {
   "cell_type": "code",
   "execution_count": 52,
   "id": "3dda5ad9",
   "metadata": {},
   "outputs": [
    {
     "data": {
      "text/html": [
       "<div>\n",
       "<style scoped>\n",
       "    .dataframe tbody tr th:only-of-type {\n",
       "        vertical-align: middle;\n",
       "    }\n",
       "\n",
       "    .dataframe tbody tr th {\n",
       "        vertical-align: top;\n",
       "    }\n",
       "\n",
       "    .dataframe thead th {\n",
       "        text-align: right;\n",
       "    }\n",
       "</style>\n",
       "<table border=\"1\" class=\"dataframe\">\n",
       "  <thead>\n",
       "    <tr style=\"text-align: right;\">\n",
       "      <th></th>\n",
       "      <th>Model</th>\n",
       "      <th>Train_Accuracy</th>\n",
       "      <th>Train_Recall</th>\n",
       "      <th>Train_Precision</th>\n",
       "      <th>Train_F1_Score</th>\n",
       "      <th>Test_Accuracy</th>\n",
       "      <th>Test_Recall</th>\n",
       "      <th>Test_Precision</th>\n",
       "      <th>Test_F1_Score</th>\n",
       "    </tr>\n",
       "  </thead>\n",
       "  <tbody>\n",
       "    <tr>\n",
       "      <th>0</th>\n",
       "      <td>LogisticRegression</td>\n",
       "      <td>0.997920</td>\n",
       "      <td>0.997920</td>\n",
       "      <td>0.995845</td>\n",
       "      <td>0.996881</td>\n",
       "      <td>0.998151</td>\n",
       "      <td>0.998151</td>\n",
       "      <td>0.996306</td>\n",
       "      <td>0.997228</td>\n",
       "    </tr>\n",
       "    <tr>\n",
       "      <th>1</th>\n",
       "      <td>DecisionTree_model</td>\n",
       "      <td>0.999967</td>\n",
       "      <td>0.999967</td>\n",
       "      <td>0.999967</td>\n",
       "      <td>0.999967</td>\n",
       "      <td>0.999604</td>\n",
       "      <td>0.999604</td>\n",
       "      <td>0.999604</td>\n",
       "      <td>0.999604</td>\n",
       "    </tr>\n",
       "  </tbody>\n",
       "</table>\n",
       "</div>"
      ],
      "text/plain": [
       "                Model  Train_Accuracy  Train_Recall  Train_Precision  \\\n",
       "0  LogisticRegression        0.997920      0.997920         0.995845   \n",
       "1  DecisionTree_model        0.999967      0.999967         0.999967   \n",
       "\n",
       "   Train_F1_Score  Test_Accuracy  Test_Recall  Test_Precision  Test_F1_Score  \n",
       "0        0.996881       0.998151     0.998151        0.996306       0.997228  \n",
       "1        0.999967       0.999604     0.999604        0.999604       0.999604  "
      ]
     },
     "execution_count": 52,
     "metadata": {},
     "output_type": "execute_result"
    }
   ],
   "source": [
    "scores=get_metrics(y_train,y_train_predds,y_test,y_test_predds,\"DecisionTree_model\",scores)\n",
    "scores"
   ]
  },
  {
   "cell_type": "markdown",
   "id": "3cdc92be",
   "metadata": {},
   "source": [
    "# KNN"
   ]
  },
  {
   "cell_type": "code",
   "execution_count": 53,
   "id": "b03f5a43",
   "metadata": {},
   "outputs": [],
   "source": [
    "from sklearn.neighbors import KNeighborsClassifier"
   ]
  },
  {
   "cell_type": "code",
   "execution_count": 54,
   "id": "8adfc738",
   "metadata": {},
   "outputs": [
    {
     "data": {
      "text/plain": [
       "KNeighborsClassifier()"
      ]
     },
     "execution_count": 54,
     "metadata": {},
     "output_type": "execute_result"
    }
   ],
   "source": [
    "model_knn= KNeighborsClassifier(n_neighbors=5)  #n_neighbors=5 (By default)\n",
    "model_knn.fit(X_train,y_train)"
   ]
  },
  {
   "cell_type": "markdown",
   "id": "504a5f87",
   "metadata": {},
   "source": [
    "##### PREDICTION ON TEST DATA"
   ]
  },
  {
   "cell_type": "code",
   "execution_count": 55,
   "id": "9391d8d5",
   "metadata": {},
   "outputs": [],
   "source": [
    "y_train_pred_knn = model_knn.predict(X_train)\n",
    "y_test_pred_knn  = model_knn.predict(X_test)"
   ]
  },
  {
   "cell_type": "code",
   "execution_count": 56,
   "id": "17467827",
   "metadata": {},
   "outputs": [
    {
     "name": "stdout",
     "output_type": "stream",
     "text": [
      "              precision    recall  f1-score   support\n",
      "\n",
      "           0       1.00      1.00      1.00     60454\n",
      "           1       0.00      0.00      0.00       126\n",
      "\n",
      "    accuracy                           1.00     60580\n",
      "   macro avg       0.50      0.50      0.50     60580\n",
      "weighted avg       1.00      1.00      1.00     60580\n",
      "\n"
     ]
    },
    {
     "name": "stderr",
     "output_type": "stream",
     "text": [
      "C:\\Users\\ADMIN\\anaconda3\\lib\\site-packages\\sklearn\\metrics\\_classification.py:1245: UndefinedMetricWarning: Precision and F-score are ill-defined and being set to 0.0 in labels with no predicted samples. Use `zero_division` parameter to control this behavior.\n",
      "  _warn_prf(average, modifier, msg_start, len(result))\n",
      "C:\\Users\\ADMIN\\anaconda3\\lib\\site-packages\\sklearn\\metrics\\_classification.py:1245: UndefinedMetricWarning: Precision and F-score are ill-defined and being set to 0.0 in labels with no predicted samples. Use `zero_division` parameter to control this behavior.\n",
      "  _warn_prf(average, modifier, msg_start, len(result))\n",
      "C:\\Users\\ADMIN\\anaconda3\\lib\\site-packages\\sklearn\\metrics\\_classification.py:1245: UndefinedMetricWarning: Precision and F-score are ill-defined and being set to 0.0 in labels with no predicted samples. Use `zero_division` parameter to control this behavior.\n",
      "  _warn_prf(average, modifier, msg_start, len(result))\n"
     ]
    }
   ],
   "source": [
    "print(classification_report(y_train, y_train_pred_knn))"
   ]
  },
  {
   "cell_type": "code",
   "execution_count": 57,
   "id": "039937d5",
   "metadata": {},
   "outputs": [
    {
     "name": "stdout",
     "output_type": "stream",
     "text": [
      "              precision    recall  f1-score   support\n",
      "\n",
      "           0       1.00      1.00      1.00     15117\n",
      "           1       0.00      0.00      0.00        28\n",
      "\n",
      "    accuracy                           1.00     15145\n",
      "   macro avg       0.50      0.50      0.50     15145\n",
      "weighted avg       1.00      1.00      1.00     15145\n",
      "\n"
     ]
    },
    {
     "name": "stderr",
     "output_type": "stream",
     "text": [
      "C:\\Users\\ADMIN\\anaconda3\\lib\\site-packages\\sklearn\\metrics\\_classification.py:1245: UndefinedMetricWarning: Precision and F-score are ill-defined and being set to 0.0 in labels with no predicted samples. Use `zero_division` parameter to control this behavior.\n",
      "  _warn_prf(average, modifier, msg_start, len(result))\n",
      "C:\\Users\\ADMIN\\anaconda3\\lib\\site-packages\\sklearn\\metrics\\_classification.py:1245: UndefinedMetricWarning: Precision and F-score are ill-defined and being set to 0.0 in labels with no predicted samples. Use `zero_division` parameter to control this behavior.\n",
      "  _warn_prf(average, modifier, msg_start, len(result))\n",
      "C:\\Users\\ADMIN\\anaconda3\\lib\\site-packages\\sklearn\\metrics\\_classification.py:1245: UndefinedMetricWarning: Precision and F-score are ill-defined and being set to 0.0 in labels with no predicted samples. Use `zero_division` parameter to control this behavior.\n",
      "  _warn_prf(average, modifier, msg_start, len(result))\n"
     ]
    }
   ],
   "source": [
    "print(classification_report(y_test, y_test_pred_knn))"
   ]
  },
  {
   "cell_type": "code",
   "execution_count": 58,
   "id": "4a007f27",
   "metadata": {},
   "outputs": [
    {
     "name": "stderr",
     "output_type": "stream",
     "text": [
      "C:\\Users\\ADMIN\\anaconda3\\lib\\site-packages\\sklearn\\metrics\\_classification.py:1245: UndefinedMetricWarning: Precision is ill-defined and being set to 0.0 in labels with no predicted samples. Use `zero_division` parameter to control this behavior.\n",
      "  _warn_prf(average, modifier, msg_start, len(result))\n",
      "C:\\Users\\ADMIN\\anaconda3\\lib\\site-packages\\sklearn\\metrics\\_classification.py:1245: UndefinedMetricWarning: Precision is ill-defined and being set to 0.0 in labels with no predicted samples. Use `zero_division` parameter to control this behavior.\n",
      "  _warn_prf(average, modifier, msg_start, len(result))\n"
     ]
    },
    {
     "data": {
      "text/html": [
       "<div>\n",
       "<style scoped>\n",
       "    .dataframe tbody tr th:only-of-type {\n",
       "        vertical-align: middle;\n",
       "    }\n",
       "\n",
       "    .dataframe tbody tr th {\n",
       "        vertical-align: top;\n",
       "    }\n",
       "\n",
       "    .dataframe thead th {\n",
       "        text-align: right;\n",
       "    }\n",
       "</style>\n",
       "<table border=\"1\" class=\"dataframe\">\n",
       "  <thead>\n",
       "    <tr style=\"text-align: right;\">\n",
       "      <th></th>\n",
       "      <th>Model</th>\n",
       "      <th>Train_Accuracy</th>\n",
       "      <th>Train_Recall</th>\n",
       "      <th>Train_Precision</th>\n",
       "      <th>Train_F1_Score</th>\n",
       "      <th>Test_Accuracy</th>\n",
       "      <th>Test_Recall</th>\n",
       "      <th>Test_Precision</th>\n",
       "      <th>Test_F1_Score</th>\n",
       "    </tr>\n",
       "  </thead>\n",
       "  <tbody>\n",
       "    <tr>\n",
       "      <th>0</th>\n",
       "      <td>LogisticRegression</td>\n",
       "      <td>0.997920</td>\n",
       "      <td>0.997920</td>\n",
       "      <td>0.995845</td>\n",
       "      <td>0.996881</td>\n",
       "      <td>0.998151</td>\n",
       "      <td>0.998151</td>\n",
       "      <td>0.996306</td>\n",
       "      <td>0.997228</td>\n",
       "    </tr>\n",
       "    <tr>\n",
       "      <th>1</th>\n",
       "      <td>DecisionTree_model</td>\n",
       "      <td>0.999967</td>\n",
       "      <td>0.999967</td>\n",
       "      <td>0.999967</td>\n",
       "      <td>0.999967</td>\n",
       "      <td>0.999604</td>\n",
       "      <td>0.999604</td>\n",
       "      <td>0.999604</td>\n",
       "      <td>0.999604</td>\n",
       "    </tr>\n",
       "    <tr>\n",
       "      <th>2</th>\n",
       "      <td>KNN</td>\n",
       "      <td>0.997920</td>\n",
       "      <td>0.997920</td>\n",
       "      <td>0.995845</td>\n",
       "      <td>0.996881</td>\n",
       "      <td>0.998151</td>\n",
       "      <td>0.998151</td>\n",
       "      <td>0.996306</td>\n",
       "      <td>0.997228</td>\n",
       "    </tr>\n",
       "  </tbody>\n",
       "</table>\n",
       "</div>"
      ],
      "text/plain": [
       "                Model  Train_Accuracy  Train_Recall  Train_Precision  \\\n",
       "0  LogisticRegression        0.997920      0.997920         0.995845   \n",
       "1  DecisionTree_model        0.999967      0.999967         0.999967   \n",
       "2                 KNN        0.997920      0.997920         0.995845   \n",
       "\n",
       "   Train_F1_Score  Test_Accuracy  Test_Recall  Test_Precision  Test_F1_Score  \n",
       "0        0.996881       0.998151     0.998151        0.996306       0.997228  \n",
       "1        0.999967       0.999604     0.999604        0.999604       0.999604  \n",
       "2        0.996881       0.998151     0.998151        0.996306       0.997228  "
      ]
     },
     "execution_count": 58,
     "metadata": {},
     "output_type": "execute_result"
    }
   ],
   "source": [
    "scores=get_metrics(y_train,y_train_pred_knn,y_test,y_test_pred_knn,\"KNN\",scores)\n",
    "scores"
   ]
  },
  {
   "cell_type": "markdown",
   "id": "a0d49e09",
   "metadata": {},
   "source": [
    "# RANDOM FOREST"
   ]
  },
  {
   "cell_type": "code",
   "execution_count": 59,
   "id": "7ee9cda7",
   "metadata": {},
   "outputs": [
    {
     "data": {
      "text/plain": [
       "RandomForestClassifier(criterion='entropy', n_estimators=5, random_state=0)"
      ]
     },
     "execution_count": 59,
     "metadata": {},
     "output_type": "execute_result"
    }
   ],
   "source": [
    "from sklearn.ensemble import RandomForestClassifier\n",
    "classifier = RandomForestClassifier(n_estimators = 5, criterion = 'entropy', random_state = 0)\n",
    "classifier.fit(X_train,y_train)"
   ]
  },
  {
   "cell_type": "code",
   "execution_count": 60,
   "id": "b64ba6b7",
   "metadata": {},
   "outputs": [],
   "source": [
    "y_train_predt = classifier.predict(X_train)\n",
    "y_test_predt = classifier.predict(X_test)"
   ]
  },
  {
   "cell_type": "code",
   "execution_count": 61,
   "id": "8bdbb608",
   "metadata": {},
   "outputs": [
    {
     "name": "stdout",
     "output_type": "stream",
     "text": [
      "              precision    recall  f1-score   support\n",
      "\n",
      "           0       1.00      1.00      1.00     60454\n",
      "           1       0.99      0.98      0.98       126\n",
      "\n",
      "    accuracy                           1.00     60580\n",
      "   macro avg       1.00      0.99      0.99     60580\n",
      "weighted avg       1.00      1.00      1.00     60580\n",
      "\n"
     ]
    }
   ],
   "source": [
    "print(classification_report(y_train, y_train_predt))"
   ]
  },
  {
   "cell_type": "code",
   "execution_count": 62,
   "id": "16b3f72f",
   "metadata": {},
   "outputs": [
    {
     "name": "stdout",
     "output_type": "stream",
     "text": [
      "              precision    recall  f1-score   support\n",
      "\n",
      "           0       1.00      1.00      1.00     15117\n",
      "           1       0.80      0.71      0.75        28\n",
      "\n",
      "    accuracy                           1.00     15145\n",
      "   macro avg       0.90      0.86      0.88     15145\n",
      "weighted avg       1.00      1.00      1.00     15145\n",
      "\n"
     ]
    }
   ],
   "source": [
    "print(classification_report(y_test, y_test_predt))"
   ]
  },
  {
   "cell_type": "code",
   "execution_count": 63,
   "id": "a0ad5ee8",
   "metadata": {},
   "outputs": [
    {
     "data": {
      "text/html": [
       "<div>\n",
       "<style scoped>\n",
       "    .dataframe tbody tr th:only-of-type {\n",
       "        vertical-align: middle;\n",
       "    }\n",
       "\n",
       "    .dataframe tbody tr th {\n",
       "        vertical-align: top;\n",
       "    }\n",
       "\n",
       "    .dataframe thead th {\n",
       "        text-align: right;\n",
       "    }\n",
       "</style>\n",
       "<table border=\"1\" class=\"dataframe\">\n",
       "  <thead>\n",
       "    <tr style=\"text-align: right;\">\n",
       "      <th></th>\n",
       "      <th>Model</th>\n",
       "      <th>Train_Accuracy</th>\n",
       "      <th>Train_Recall</th>\n",
       "      <th>Train_Precision</th>\n",
       "      <th>Train_F1_Score</th>\n",
       "      <th>Test_Accuracy</th>\n",
       "      <th>Test_Recall</th>\n",
       "      <th>Test_Precision</th>\n",
       "      <th>Test_F1_Score</th>\n",
       "    </tr>\n",
       "  </thead>\n",
       "  <tbody>\n",
       "    <tr>\n",
       "      <th>0</th>\n",
       "      <td>LogisticRegression</td>\n",
       "      <td>0.997920</td>\n",
       "      <td>0.997920</td>\n",
       "      <td>0.995845</td>\n",
       "      <td>0.996881</td>\n",
       "      <td>0.998151</td>\n",
       "      <td>0.998151</td>\n",
       "      <td>0.996306</td>\n",
       "      <td>0.997228</td>\n",
       "    </tr>\n",
       "    <tr>\n",
       "      <th>1</th>\n",
       "      <td>DecisionTree_model</td>\n",
       "      <td>0.999967</td>\n",
       "      <td>0.999967</td>\n",
       "      <td>0.999967</td>\n",
       "      <td>0.999967</td>\n",
       "      <td>0.999604</td>\n",
       "      <td>0.999604</td>\n",
       "      <td>0.999604</td>\n",
       "      <td>0.999604</td>\n",
       "    </tr>\n",
       "    <tr>\n",
       "      <th>2</th>\n",
       "      <td>KNN</td>\n",
       "      <td>0.997920</td>\n",
       "      <td>0.997920</td>\n",
       "      <td>0.995845</td>\n",
       "      <td>0.996881</td>\n",
       "      <td>0.998151</td>\n",
       "      <td>0.998151</td>\n",
       "      <td>0.996306</td>\n",
       "      <td>0.997228</td>\n",
       "    </tr>\n",
       "    <tr>\n",
       "      <th>3</th>\n",
       "      <td>RandomForestClassifier</td>\n",
       "      <td>0.999934</td>\n",
       "      <td>0.999934</td>\n",
       "      <td>0.999934</td>\n",
       "      <td>0.999934</td>\n",
       "      <td>0.999142</td>\n",
       "      <td>0.999142</td>\n",
       "      <td>0.999102</td>\n",
       "      <td>0.999117</td>\n",
       "    </tr>\n",
       "  </tbody>\n",
       "</table>\n",
       "</div>"
      ],
      "text/plain": [
       "                    Model  Train_Accuracy  Train_Recall  Train_Precision  \\\n",
       "0      LogisticRegression        0.997920      0.997920         0.995845   \n",
       "1      DecisionTree_model        0.999967      0.999967         0.999967   \n",
       "2                     KNN        0.997920      0.997920         0.995845   \n",
       "3  RandomForestClassifier        0.999934      0.999934         0.999934   \n",
       "\n",
       "   Train_F1_Score  Test_Accuracy  Test_Recall  Test_Precision  Test_F1_Score  \n",
       "0        0.996881       0.998151     0.998151        0.996306       0.997228  \n",
       "1        0.999967       0.999604     0.999604        0.999604       0.999604  \n",
       "2        0.996881       0.998151     0.998151        0.996306       0.997228  \n",
       "3        0.999934       0.999142     0.999142        0.999102       0.999117  "
      ]
     },
     "execution_count": 63,
     "metadata": {},
     "output_type": "execute_result"
    }
   ],
   "source": [
    "scores=get_metrics(y_train,y_train_predt,y_test,y_test_predt,\"RandomForestClassifier\",scores)\n",
    "scores"
   ]
  },
  {
   "cell_type": "markdown",
   "id": "f4a9c513",
   "metadata": {},
   "source": [
    "# GradientBoostingClassifier"
   ]
  },
  {
   "cell_type": "code",
   "execution_count": 64,
   "id": "4376b34e",
   "metadata": {},
   "outputs": [],
   "source": [
    "from sklearn.ensemble import GradientBoostingClassifier"
   ]
  },
  {
   "cell_type": "code",
   "execution_count": 65,
   "id": "effc5a48",
   "metadata": {},
   "outputs": [],
   "source": [
    "GBM_model = GradientBoostingClassifier(n_estimators=50,\n",
    "                                       learning_rate=0.3,\n",
    "                                       subsample=0.8)"
   ]
  },
  {
   "cell_type": "code",
   "execution_count": 66,
   "id": "461e237f",
   "metadata": {},
   "outputs": [
    {
     "name": "stdout",
     "output_type": "stream",
     "text": [
      "Wall time: 2.7 s\n"
     ]
    },
    {
     "data": {
      "text/plain": [
       "GradientBoostingClassifier(learning_rate=0.3, n_estimators=50, subsample=0.8)"
      ]
     },
     "execution_count": 66,
     "metadata": {},
     "output_type": "execute_result"
    }
   ],
   "source": [
    "%time GBM_model.fit(X_train, y_train)"
   ]
  },
  {
   "cell_type": "code",
   "execution_count": 67,
   "id": "1b33e891",
   "metadata": {},
   "outputs": [],
   "source": [
    "y__train = GBM_model.predict(X_train)\n",
    "y__test = GBM_model.predict(X_test)"
   ]
  },
  {
   "cell_type": "code",
   "execution_count": 68,
   "id": "cc7ab491",
   "metadata": {},
   "outputs": [
    {
     "name": "stdout",
     "output_type": "stream",
     "text": [
      "              precision    recall  f1-score   support\n",
      "\n",
      "           0       1.00      1.00      1.00     15117\n",
      "           1       1.00      0.54      0.70        28\n",
      "\n",
      "    accuracy                           1.00     15145\n",
      "   macro avg       1.00      0.77      0.85     15145\n",
      "weighted avg       1.00      1.00      1.00     15145\n",
      "\n"
     ]
    }
   ],
   "source": [
    "print(classification_report(y_test,y__test))"
   ]
  },
  {
   "cell_type": "code",
   "execution_count": 69,
   "id": "45b40077",
   "metadata": {},
   "outputs": [
    {
     "name": "stdout",
     "output_type": "stream",
     "text": [
      "              precision    recall  f1-score   support\n",
      "\n",
      "           0       1.00      1.00      1.00     15117\n",
      "           1       1.00      0.54      0.70        28\n",
      "\n",
      "    accuracy                           1.00     15145\n",
      "   macro avg       1.00      0.77      0.85     15145\n",
      "weighted avg       1.00      1.00      1.00     15145\n",
      "\n"
     ]
    }
   ],
   "source": [
    "print(classification_report(y_test, y__test))"
   ]
  },
  {
   "cell_type": "code",
   "execution_count": 70,
   "id": "dfb34764",
   "metadata": {},
   "outputs": [
    {
     "data": {
      "text/html": [
       "<div>\n",
       "<style scoped>\n",
       "    .dataframe tbody tr th:only-of-type {\n",
       "        vertical-align: middle;\n",
       "    }\n",
       "\n",
       "    .dataframe tbody tr th {\n",
       "        vertical-align: top;\n",
       "    }\n",
       "\n",
       "    .dataframe thead th {\n",
       "        text-align: right;\n",
       "    }\n",
       "</style>\n",
       "<table border=\"1\" class=\"dataframe\">\n",
       "  <thead>\n",
       "    <tr style=\"text-align: right;\">\n",
       "      <th></th>\n",
       "      <th>Model</th>\n",
       "      <th>Train_Accuracy</th>\n",
       "      <th>Train_Recall</th>\n",
       "      <th>Train_Precision</th>\n",
       "      <th>Train_F1_Score</th>\n",
       "      <th>Test_Accuracy</th>\n",
       "      <th>Test_Recall</th>\n",
       "      <th>Test_Precision</th>\n",
       "      <th>Test_F1_Score</th>\n",
       "    </tr>\n",
       "  </thead>\n",
       "  <tbody>\n",
       "    <tr>\n",
       "      <th>0</th>\n",
       "      <td>LogisticRegression</td>\n",
       "      <td>0.997920</td>\n",
       "      <td>0.997920</td>\n",
       "      <td>0.995845</td>\n",
       "      <td>0.996881</td>\n",
       "      <td>0.998151</td>\n",
       "      <td>0.998151</td>\n",
       "      <td>0.996306</td>\n",
       "      <td>0.997228</td>\n",
       "    </tr>\n",
       "    <tr>\n",
       "      <th>1</th>\n",
       "      <td>DecisionTree_model</td>\n",
       "      <td>0.999967</td>\n",
       "      <td>0.999967</td>\n",
       "      <td>0.999967</td>\n",
       "      <td>0.999967</td>\n",
       "      <td>0.999604</td>\n",
       "      <td>0.999604</td>\n",
       "      <td>0.999604</td>\n",
       "      <td>0.999604</td>\n",
       "    </tr>\n",
       "    <tr>\n",
       "      <th>2</th>\n",
       "      <td>KNN</td>\n",
       "      <td>0.997920</td>\n",
       "      <td>0.997920</td>\n",
       "      <td>0.995845</td>\n",
       "      <td>0.996881</td>\n",
       "      <td>0.998151</td>\n",
       "      <td>0.998151</td>\n",
       "      <td>0.996306</td>\n",
       "      <td>0.997228</td>\n",
       "    </tr>\n",
       "    <tr>\n",
       "      <th>3</th>\n",
       "      <td>RandomForestClassifier</td>\n",
       "      <td>0.999934</td>\n",
       "      <td>0.999934</td>\n",
       "      <td>0.999934</td>\n",
       "      <td>0.999934</td>\n",
       "      <td>0.999142</td>\n",
       "      <td>0.999142</td>\n",
       "      <td>0.999102</td>\n",
       "      <td>0.999117</td>\n",
       "    </tr>\n",
       "    <tr>\n",
       "      <th>4</th>\n",
       "      <td>GBM</td>\n",
       "      <td>0.999505</td>\n",
       "      <td>0.999505</td>\n",
       "      <td>0.999505</td>\n",
       "      <td>0.999471</td>\n",
       "      <td>0.999142</td>\n",
       "      <td>0.999142</td>\n",
       "      <td>0.999142</td>\n",
       "      <td>0.999012</td>\n",
       "    </tr>\n",
       "  </tbody>\n",
       "</table>\n",
       "</div>"
      ],
      "text/plain": [
       "                    Model  Train_Accuracy  Train_Recall  Train_Precision  \\\n",
       "0      LogisticRegression        0.997920      0.997920         0.995845   \n",
       "1      DecisionTree_model        0.999967      0.999967         0.999967   \n",
       "2                     KNN        0.997920      0.997920         0.995845   \n",
       "3  RandomForestClassifier        0.999934      0.999934         0.999934   \n",
       "4                     GBM        0.999505      0.999505         0.999505   \n",
       "\n",
       "   Train_F1_Score  Test_Accuracy  Test_Recall  Test_Precision  Test_F1_Score  \n",
       "0        0.996881       0.998151     0.998151        0.996306       0.997228  \n",
       "1        0.999967       0.999604     0.999604        0.999604       0.999604  \n",
       "2        0.996881       0.998151     0.998151        0.996306       0.997228  \n",
       "3        0.999934       0.999142     0.999142        0.999102       0.999117  \n",
       "4        0.999471       0.999142     0.999142        0.999142       0.999012  "
      ]
     },
     "execution_count": 70,
     "metadata": {},
     "output_type": "execute_result"
    }
   ],
   "source": [
    "scores = get_metrics(y_train,y__train, y_test, y__test, \"GBM\", scores)\n",
    "scores"
   ]
  },
  {
   "cell_type": "markdown",
   "id": "905a3a1d",
   "metadata": {},
   "source": [
    "# XGBOOST"
   ]
  },
  {
   "cell_type": "code",
   "execution_count": 71,
   "id": "43b15c5e",
   "metadata": {},
   "outputs": [
    {
     "name": "stdout",
     "output_type": "stream",
     "text": [
      "Requirement already satisfied: xgboost in c:\\users\\admin\\anaconda3\\lib\\site-packages (1.6.1)\n",
      "Requirement already satisfied: numpy in c:\\users\\admin\\anaconda3\\lib\\site-packages (from xgboost) (1.20.1)\n",
      "Requirement already satisfied: scipy in c:\\users\\admin\\anaconda3\\lib\\site-packages (from xgboost) (1.6.2)\n"
     ]
    }
   ],
   "source": [
    "!pip install xgboost"
   ]
  },
  {
   "cell_type": "code",
   "execution_count": 72,
   "id": "5468f282",
   "metadata": {},
   "outputs": [],
   "source": [
    "from xgboost import XGBClassifier"
   ]
  },
  {
   "cell_type": "code",
   "execution_count": 73,
   "id": "26b8d24b",
   "metadata": {},
   "outputs": [],
   "source": [
    "xgb = XGBClassifier()"
   ]
  },
  {
   "cell_type": "code",
   "execution_count": 74,
   "id": "d1f5f088",
   "metadata": {},
   "outputs": [
    {
     "data": {
      "text/plain": [
       "XGBClassifier(base_score=0.5, booster='gbtree', callbacks=None,\n",
       "              colsample_bylevel=1, colsample_bynode=1, colsample_bytree=1,\n",
       "              early_stopping_rounds=None, enable_categorical=False,\n",
       "              eval_metric=None, gamma=0, gpu_id=-1, grow_policy='depthwise',\n",
       "              importance_type=None, interaction_constraints='',\n",
       "              learning_rate=0.300000012, max_bin=256, max_cat_to_onehot=4,\n",
       "              max_delta_step=0, max_depth=6, max_leaves=0, min_child_weight=1,\n",
       "              missing=nan, monotone_constraints='()', n_estimators=100,\n",
       "              n_jobs=0, num_parallel_tree=1, predictor='auto', random_state=0,\n",
       "              reg_alpha=0, reg_lambda=1, ...)"
      ]
     },
     "execution_count": 74,
     "metadata": {},
     "output_type": "execute_result"
    }
   ],
   "source": [
    "xgb.fit(X_train, y_train)"
   ]
  },
  {
   "cell_type": "code",
   "execution_count": 75,
   "id": "6e732112",
   "metadata": {},
   "outputs": [],
   "source": [
    "_pred_train = xgb.predict(X_train)\n",
    "y_pred_test = xgb.predict(X_test)"
   ]
  },
  {
   "cell_type": "code",
   "execution_count": 76,
   "id": "7b7b8bd3",
   "metadata": {},
   "outputs": [
    {
     "name": "stdout",
     "output_type": "stream",
     "text": [
      "              precision    recall  f1-score   support\n",
      "\n",
      "           0       1.00      1.00      1.00     60454\n",
      "           1       1.00      0.99      1.00       126\n",
      "\n",
      "    accuracy                           1.00     60580\n",
      "   macro avg       1.00      1.00      1.00     60580\n",
      "weighted avg       1.00      1.00      1.00     60580\n",
      "\n"
     ]
    }
   ],
   "source": [
    "print(classification_report(y_train, _pred_train))"
   ]
  },
  {
   "cell_type": "code",
   "execution_count": 77,
   "id": "4a2ea1f7",
   "metadata": {},
   "outputs": [
    {
     "name": "stdout",
     "output_type": "stream",
     "text": [
      "              precision    recall  f1-score   support\n",
      "\n",
      "           0       1.00      1.00      1.00     15117\n",
      "           1       0.92      0.82      0.87        28\n",
      "\n",
      "    accuracy                           1.00     15145\n",
      "   macro avg       0.96      0.91      0.93     15145\n",
      "weighted avg       1.00      1.00      1.00     15145\n",
      "\n"
     ]
    }
   ],
   "source": [
    "print(classification_report(y_test, y_pred_test))"
   ]
  },
  {
   "cell_type": "code",
   "execution_count": 78,
   "id": "fb1e8166",
   "metadata": {},
   "outputs": [
    {
     "data": {
      "text/html": [
       "<div>\n",
       "<style scoped>\n",
       "    .dataframe tbody tr th:only-of-type {\n",
       "        vertical-align: middle;\n",
       "    }\n",
       "\n",
       "    .dataframe tbody tr th {\n",
       "        vertical-align: top;\n",
       "    }\n",
       "\n",
       "    .dataframe thead th {\n",
       "        text-align: right;\n",
       "    }\n",
       "</style>\n",
       "<table border=\"1\" class=\"dataframe\">\n",
       "  <thead>\n",
       "    <tr style=\"text-align: right;\">\n",
       "      <th></th>\n",
       "      <th>Model</th>\n",
       "      <th>Train_Accuracy</th>\n",
       "      <th>Train_Recall</th>\n",
       "      <th>Train_Precision</th>\n",
       "      <th>Train_F1_Score</th>\n",
       "      <th>Test_Accuracy</th>\n",
       "      <th>Test_Recall</th>\n",
       "      <th>Test_Precision</th>\n",
       "      <th>Test_F1_Score</th>\n",
       "    </tr>\n",
       "  </thead>\n",
       "  <tbody>\n",
       "    <tr>\n",
       "      <th>0</th>\n",
       "      <td>LogisticRegression</td>\n",
       "      <td>0.997920</td>\n",
       "      <td>0.997920</td>\n",
       "      <td>0.995845</td>\n",
       "      <td>0.996881</td>\n",
       "      <td>0.998151</td>\n",
       "      <td>0.998151</td>\n",
       "      <td>0.996306</td>\n",
       "      <td>0.997228</td>\n",
       "    </tr>\n",
       "    <tr>\n",
       "      <th>1</th>\n",
       "      <td>DecisionTree_model</td>\n",
       "      <td>0.999967</td>\n",
       "      <td>0.999967</td>\n",
       "      <td>0.999967</td>\n",
       "      <td>0.999967</td>\n",
       "      <td>0.999604</td>\n",
       "      <td>0.999604</td>\n",
       "      <td>0.999604</td>\n",
       "      <td>0.999604</td>\n",
       "    </tr>\n",
       "    <tr>\n",
       "      <th>2</th>\n",
       "      <td>KNN</td>\n",
       "      <td>0.997920</td>\n",
       "      <td>0.997920</td>\n",
       "      <td>0.995845</td>\n",
       "      <td>0.996881</td>\n",
       "      <td>0.998151</td>\n",
       "      <td>0.998151</td>\n",
       "      <td>0.996306</td>\n",
       "      <td>0.997228</td>\n",
       "    </tr>\n",
       "    <tr>\n",
       "      <th>3</th>\n",
       "      <td>RandomForestClassifier</td>\n",
       "      <td>0.999934</td>\n",
       "      <td>0.999934</td>\n",
       "      <td>0.999934</td>\n",
       "      <td>0.999934</td>\n",
       "      <td>0.999142</td>\n",
       "      <td>0.999142</td>\n",
       "      <td>0.999102</td>\n",
       "      <td>0.999117</td>\n",
       "    </tr>\n",
       "    <tr>\n",
       "      <th>4</th>\n",
       "      <td>GBM</td>\n",
       "      <td>0.999505</td>\n",
       "      <td>0.999505</td>\n",
       "      <td>0.999505</td>\n",
       "      <td>0.999471</td>\n",
       "      <td>0.999142</td>\n",
       "      <td>0.999142</td>\n",
       "      <td>0.999142</td>\n",
       "      <td>0.999012</td>\n",
       "    </tr>\n",
       "    <tr>\n",
       "      <th>5</th>\n",
       "      <td>XGBoost</td>\n",
       "      <td>0.999983</td>\n",
       "      <td>0.999983</td>\n",
       "      <td>0.999983</td>\n",
       "      <td>0.999983</td>\n",
       "      <td>0.999538</td>\n",
       "      <td>0.999538</td>\n",
       "      <td>0.999522</td>\n",
       "      <td>0.999525</td>\n",
       "    </tr>\n",
       "  </tbody>\n",
       "</table>\n",
       "</div>"
      ],
      "text/plain": [
       "                    Model  Train_Accuracy  Train_Recall  Train_Precision  \\\n",
       "0      LogisticRegression        0.997920      0.997920         0.995845   \n",
       "1      DecisionTree_model        0.999967      0.999967         0.999967   \n",
       "2                     KNN        0.997920      0.997920         0.995845   \n",
       "3  RandomForestClassifier        0.999934      0.999934         0.999934   \n",
       "4                     GBM        0.999505      0.999505         0.999505   \n",
       "5                 XGBoost        0.999983      0.999983         0.999983   \n",
       "\n",
       "   Train_F1_Score  Test_Accuracy  Test_Recall  Test_Precision  Test_F1_Score  \n",
       "0        0.996881       0.998151     0.998151        0.996306       0.997228  \n",
       "1        0.999967       0.999604     0.999604        0.999604       0.999604  \n",
       "2        0.996881       0.998151     0.998151        0.996306       0.997228  \n",
       "3        0.999934       0.999142     0.999142        0.999102       0.999117  \n",
       "4        0.999471       0.999142     0.999142        0.999142       0.999012  \n",
       "5        0.999983       0.999538     0.999538        0.999522       0.999525  "
      ]
     },
     "execution_count": 78,
     "metadata": {},
     "output_type": "execute_result"
    }
   ],
   "source": [
    "scores = get_metrics(y_train, _pred_train, y_test, y_pred_test, \"XGBoost\", scores)\n",
    "scores"
   ]
  },
  {
   "cell_type": "markdown",
   "id": "cbc259fa",
   "metadata": {},
   "source": [
    "# Adaboost"
   ]
  },
  {
   "cell_type": "code",
   "execution_count": 79,
   "id": "16c14b8e",
   "metadata": {},
   "outputs": [],
   "source": [
    "from sklearn.ensemble import AdaBoostClassifier"
   ]
  },
  {
   "cell_type": "code",
   "execution_count": 80,
   "id": "096a4803",
   "metadata": {},
   "outputs": [],
   "source": [
    "adaboost =  AdaBoostClassifier()"
   ]
  },
  {
   "cell_type": "code",
   "execution_count": 81,
   "id": "1d07e42a",
   "metadata": {},
   "outputs": [
    {
     "data": {
      "text/plain": [
       "AdaBoostClassifier()"
      ]
     },
     "execution_count": 81,
     "metadata": {},
     "output_type": "execute_result"
    }
   ],
   "source": [
    "adaboost.fit(X_train, y_train)"
   ]
  },
  {
   "cell_type": "code",
   "execution_count": 82,
   "id": "c3df7a89",
   "metadata": {},
   "outputs": [],
   "source": [
    "y_pred_train = adaboost.predict(X_train)\n",
    "y_pred_test = adaboost.predict(X_test)"
   ]
  },
  {
   "cell_type": "code",
   "execution_count": 83,
   "id": "534c5ce7",
   "metadata": {},
   "outputs": [
    {
     "name": "stdout",
     "output_type": "stream",
     "text": [
      "              precision    recall  f1-score   support\n",
      "\n",
      "           0       1.00      1.00      1.00     60454\n",
      "           1       0.97      0.90      0.93       126\n",
      "\n",
      "    accuracy                           1.00     60580\n",
      "   macro avg       0.98      0.95      0.97     60580\n",
      "weighted avg       1.00      1.00      1.00     60580\n",
      "\n"
     ]
    }
   ],
   "source": [
    "print(classification_report(y_train, y_pred_train))"
   ]
  },
  {
   "cell_type": "code",
   "execution_count": 84,
   "id": "494c5a54",
   "metadata": {},
   "outputs": [
    {
     "name": "stdout",
     "output_type": "stream",
     "text": [
      "              precision    recall  f1-score   support\n",
      "\n",
      "           0       1.00      1.00      1.00     15117\n",
      "           1       0.92      0.79      0.85        28\n",
      "\n",
      "    accuracy                           1.00     15145\n",
      "   macro avg       0.96      0.89      0.92     15145\n",
      "weighted avg       1.00      1.00      1.00     15145\n",
      "\n"
     ]
    }
   ],
   "source": [
    "print(classification_report(y_test,y_pred_test))"
   ]
  },
  {
   "cell_type": "code",
   "execution_count": 85,
   "id": "3acd92c8",
   "metadata": {},
   "outputs": [
    {
     "data": {
      "text/html": [
       "<div>\n",
       "<style scoped>\n",
       "    .dataframe tbody tr th:only-of-type {\n",
       "        vertical-align: middle;\n",
       "    }\n",
       "\n",
       "    .dataframe tbody tr th {\n",
       "        vertical-align: top;\n",
       "    }\n",
       "\n",
       "    .dataframe thead th {\n",
       "        text-align: right;\n",
       "    }\n",
       "</style>\n",
       "<table border=\"1\" class=\"dataframe\">\n",
       "  <thead>\n",
       "    <tr style=\"text-align: right;\">\n",
       "      <th></th>\n",
       "      <th>Model</th>\n",
       "      <th>Train_Accuracy</th>\n",
       "      <th>Train_Recall</th>\n",
       "      <th>Train_Precision</th>\n",
       "      <th>Train_F1_Score</th>\n",
       "      <th>Test_Accuracy</th>\n",
       "      <th>Test_Recall</th>\n",
       "      <th>Test_Precision</th>\n",
       "      <th>Test_F1_Score</th>\n",
       "    </tr>\n",
       "  </thead>\n",
       "  <tbody>\n",
       "    <tr>\n",
       "      <th>0</th>\n",
       "      <td>LogisticRegression</td>\n",
       "      <td>0.997920</td>\n",
       "      <td>0.997920</td>\n",
       "      <td>0.995845</td>\n",
       "      <td>0.996881</td>\n",
       "      <td>0.998151</td>\n",
       "      <td>0.998151</td>\n",
       "      <td>0.996306</td>\n",
       "      <td>0.997228</td>\n",
       "    </tr>\n",
       "    <tr>\n",
       "      <th>1</th>\n",
       "      <td>DecisionTree_model</td>\n",
       "      <td>0.999967</td>\n",
       "      <td>0.999967</td>\n",
       "      <td>0.999967</td>\n",
       "      <td>0.999967</td>\n",
       "      <td>0.999604</td>\n",
       "      <td>0.999604</td>\n",
       "      <td>0.999604</td>\n",
       "      <td>0.999604</td>\n",
       "    </tr>\n",
       "    <tr>\n",
       "      <th>2</th>\n",
       "      <td>KNN</td>\n",
       "      <td>0.997920</td>\n",
       "      <td>0.997920</td>\n",
       "      <td>0.995845</td>\n",
       "      <td>0.996881</td>\n",
       "      <td>0.998151</td>\n",
       "      <td>0.998151</td>\n",
       "      <td>0.996306</td>\n",
       "      <td>0.997228</td>\n",
       "    </tr>\n",
       "    <tr>\n",
       "      <th>3</th>\n",
       "      <td>RandomForestClassifier</td>\n",
       "      <td>0.999934</td>\n",
       "      <td>0.999934</td>\n",
       "      <td>0.999934</td>\n",
       "      <td>0.999934</td>\n",
       "      <td>0.999142</td>\n",
       "      <td>0.999142</td>\n",
       "      <td>0.999102</td>\n",
       "      <td>0.999117</td>\n",
       "    </tr>\n",
       "    <tr>\n",
       "      <th>4</th>\n",
       "      <td>GBM</td>\n",
       "      <td>0.999505</td>\n",
       "      <td>0.999505</td>\n",
       "      <td>0.999505</td>\n",
       "      <td>0.999471</td>\n",
       "      <td>0.999142</td>\n",
       "      <td>0.999142</td>\n",
       "      <td>0.999142</td>\n",
       "      <td>0.999012</td>\n",
       "    </tr>\n",
       "    <tr>\n",
       "      <th>5</th>\n",
       "      <td>XGBoost</td>\n",
       "      <td>0.999983</td>\n",
       "      <td>0.999983</td>\n",
       "      <td>0.999983</td>\n",
       "      <td>0.999983</td>\n",
       "      <td>0.999538</td>\n",
       "      <td>0.999538</td>\n",
       "      <td>0.999522</td>\n",
       "      <td>0.999525</td>\n",
       "    </tr>\n",
       "    <tr>\n",
       "      <th>6</th>\n",
       "      <td>Adaboost</td>\n",
       "      <td>0.999736</td>\n",
       "      <td>0.999736</td>\n",
       "      <td>0.999731</td>\n",
       "      <td>0.999732</td>\n",
       "      <td>0.999472</td>\n",
       "      <td>0.999472</td>\n",
       "      <td>0.999450</td>\n",
       "      <td>0.999451</td>\n",
       "    </tr>\n",
       "  </tbody>\n",
       "</table>\n",
       "</div>"
      ],
      "text/plain": [
       "                    Model  Train_Accuracy  Train_Recall  Train_Precision  \\\n",
       "0      LogisticRegression        0.997920      0.997920         0.995845   \n",
       "1      DecisionTree_model        0.999967      0.999967         0.999967   \n",
       "2                     KNN        0.997920      0.997920         0.995845   \n",
       "3  RandomForestClassifier        0.999934      0.999934         0.999934   \n",
       "4                     GBM        0.999505      0.999505         0.999505   \n",
       "5                 XGBoost        0.999983      0.999983         0.999983   \n",
       "6                Adaboost        0.999736      0.999736         0.999731   \n",
       "\n",
       "   Train_F1_Score  Test_Accuracy  Test_Recall  Test_Precision  Test_F1_Score  \n",
       "0        0.996881       0.998151     0.998151        0.996306       0.997228  \n",
       "1        0.999967       0.999604     0.999604        0.999604       0.999604  \n",
       "2        0.996881       0.998151     0.998151        0.996306       0.997228  \n",
       "3        0.999934       0.999142     0.999142        0.999102       0.999117  \n",
       "4        0.999471       0.999142     0.999142        0.999142       0.999012  \n",
       "5        0.999983       0.999538     0.999538        0.999522       0.999525  \n",
       "6        0.999732       0.999472     0.999472        0.999450       0.999451  "
      ]
     },
     "execution_count": 85,
     "metadata": {},
     "output_type": "execute_result"
    }
   ],
   "source": [
    "scores = get_metrics(y_train, y_pred_train, y_test, y_pred_test, \"Adaboost\", scores)\n",
    "scores"
   ]
  },
  {
   "cell_type": "markdown",
   "id": "7e6d74d6",
   "metadata": {},
   "source": [
    "# Bagging"
   ]
  },
  {
   "cell_type": "code",
   "execution_count": 86,
   "id": "5ebc34b1",
   "metadata": {},
   "outputs": [],
   "source": [
    "from sklearn import model_selection\n",
    "from sklearn.ensemble import BaggingClassifier"
   ]
  },
  {
   "cell_type": "code",
   "execution_count": 87,
   "id": "45fdf479",
   "metadata": {},
   "outputs": [],
   "source": [
    "seed =8\n",
    "kfold = model_selection.KFold(n_splits = 3)\n",
    "  "
   ]
  },
  {
   "cell_type": "code",
   "execution_count": 88,
   "id": "91df2186",
   "metadata": {},
   "outputs": [],
   "source": [
    "base_cls = DecisionTreeClassifier()\n",
    "  "
   ]
  },
  {
   "cell_type": "code",
   "execution_count": 89,
   "id": "0b7df0d9",
   "metadata": {},
   "outputs": [],
   "source": [
    "num_trees = 500"
   ]
  },
  {
   "cell_type": "code",
   "execution_count": 90,
   "id": "779a5ea4",
   "metadata": {},
   "outputs": [],
   "source": [
    "# bagging classifier\n",
    "model2 = BaggingClassifier(base_estimator = base_cls,\n",
    "                          n_estimators = num_trees,\n",
    "                          random_state = 123)"
   ]
  },
  {
   "cell_type": "code",
   "execution_count": 91,
   "id": "4a148c13",
   "metadata": {
    "scrolled": true
   },
   "outputs": [
    {
     "data": {
      "text/plain": [
       "BaggingClassifier(base_estimator=DecisionTreeClassifier(), n_estimators=500,\n",
       "                  random_state=123)"
      ]
     },
     "execution_count": 91,
     "metadata": {},
     "output_type": "execute_result"
    }
   ],
   "source": [
    "model2.fit(X_train, y_train)"
   ]
  },
  {
   "cell_type": "code",
   "execution_count": 92,
   "id": "e9af31f5",
   "metadata": {},
   "outputs": [],
   "source": [
    "bagging_y=model2.predict(X_test)\n",
    "bagging_y2=model2.predict(X_train)"
   ]
  },
  {
   "cell_type": "code",
   "execution_count": 93,
   "id": "7cac144f",
   "metadata": {},
   "outputs": [
    {
     "name": "stdout",
     "output_type": "stream",
     "text": [
      "              precision    recall  f1-score   support\n",
      "\n",
      "           0       1.00      1.00      1.00     60454\n",
      "           1       1.00      1.00      1.00       126\n",
      "\n",
      "    accuracy                           1.00     60580\n",
      "   macro avg       1.00      1.00      1.00     60580\n",
      "weighted avg       1.00      1.00      1.00     60580\n",
      "\n"
     ]
    }
   ],
   "source": [
    "print(classification_report(y_train,bagging_y2))"
   ]
  },
  {
   "cell_type": "code",
   "execution_count": 94,
   "id": "9f37999a",
   "metadata": {},
   "outputs": [
    {
     "name": "stdout",
     "output_type": "stream",
     "text": [
      "              precision    recall  f1-score   support\n",
      "\n",
      "           0       1.00      1.00      1.00     15117\n",
      "           1       0.89      0.89      0.89        28\n",
      "\n",
      "    accuracy                           1.00     15145\n",
      "   macro avg       0.95      0.95      0.95     15145\n",
      "weighted avg       1.00      1.00      1.00     15145\n",
      "\n"
     ]
    }
   ],
   "source": [
    "print(classification_report(y_test,bagging_y))"
   ]
  },
  {
   "cell_type": "code",
   "execution_count": 95,
   "id": "5432f13e",
   "metadata": {},
   "outputs": [
    {
     "data": {
      "text/html": [
       "<div>\n",
       "<style scoped>\n",
       "    .dataframe tbody tr th:only-of-type {\n",
       "        vertical-align: middle;\n",
       "    }\n",
       "\n",
       "    .dataframe tbody tr th {\n",
       "        vertical-align: top;\n",
       "    }\n",
       "\n",
       "    .dataframe thead th {\n",
       "        text-align: right;\n",
       "    }\n",
       "</style>\n",
       "<table border=\"1\" class=\"dataframe\">\n",
       "  <thead>\n",
       "    <tr style=\"text-align: right;\">\n",
       "      <th></th>\n",
       "      <th>Model</th>\n",
       "      <th>Train_Accuracy</th>\n",
       "      <th>Train_Recall</th>\n",
       "      <th>Train_Precision</th>\n",
       "      <th>Train_F1_Score</th>\n",
       "      <th>Test_Accuracy</th>\n",
       "      <th>Test_Recall</th>\n",
       "      <th>Test_Precision</th>\n",
       "      <th>Test_F1_Score</th>\n",
       "    </tr>\n",
       "  </thead>\n",
       "  <tbody>\n",
       "    <tr>\n",
       "      <th>0</th>\n",
       "      <td>LogisticRegression</td>\n",
       "      <td>0.997920</td>\n",
       "      <td>0.997920</td>\n",
       "      <td>0.995845</td>\n",
       "      <td>0.996881</td>\n",
       "      <td>0.998151</td>\n",
       "      <td>0.998151</td>\n",
       "      <td>0.996306</td>\n",
       "      <td>0.997228</td>\n",
       "    </tr>\n",
       "    <tr>\n",
       "      <th>1</th>\n",
       "      <td>DecisionTree_model</td>\n",
       "      <td>0.999967</td>\n",
       "      <td>0.999967</td>\n",
       "      <td>0.999967</td>\n",
       "      <td>0.999967</td>\n",
       "      <td>0.999604</td>\n",
       "      <td>0.999604</td>\n",
       "      <td>0.999604</td>\n",
       "      <td>0.999604</td>\n",
       "    </tr>\n",
       "    <tr>\n",
       "      <th>2</th>\n",
       "      <td>KNN</td>\n",
       "      <td>0.997920</td>\n",
       "      <td>0.997920</td>\n",
       "      <td>0.995845</td>\n",
       "      <td>0.996881</td>\n",
       "      <td>0.998151</td>\n",
       "      <td>0.998151</td>\n",
       "      <td>0.996306</td>\n",
       "      <td>0.997228</td>\n",
       "    </tr>\n",
       "    <tr>\n",
       "      <th>3</th>\n",
       "      <td>RandomForestClassifier</td>\n",
       "      <td>0.999934</td>\n",
       "      <td>0.999934</td>\n",
       "      <td>0.999934</td>\n",
       "      <td>0.999934</td>\n",
       "      <td>0.999142</td>\n",
       "      <td>0.999142</td>\n",
       "      <td>0.999102</td>\n",
       "      <td>0.999117</td>\n",
       "    </tr>\n",
       "    <tr>\n",
       "      <th>4</th>\n",
       "      <td>GBM</td>\n",
       "      <td>0.999505</td>\n",
       "      <td>0.999505</td>\n",
       "      <td>0.999505</td>\n",
       "      <td>0.999471</td>\n",
       "      <td>0.999142</td>\n",
       "      <td>0.999142</td>\n",
       "      <td>0.999142</td>\n",
       "      <td>0.999012</td>\n",
       "    </tr>\n",
       "    <tr>\n",
       "      <th>5</th>\n",
       "      <td>XGBoost</td>\n",
       "      <td>0.999983</td>\n",
       "      <td>0.999983</td>\n",
       "      <td>0.999983</td>\n",
       "      <td>0.999983</td>\n",
       "      <td>0.999538</td>\n",
       "      <td>0.999538</td>\n",
       "      <td>0.999522</td>\n",
       "      <td>0.999525</td>\n",
       "    </tr>\n",
       "    <tr>\n",
       "      <th>6</th>\n",
       "      <td>Adaboost</td>\n",
       "      <td>0.999736</td>\n",
       "      <td>0.999736</td>\n",
       "      <td>0.999731</td>\n",
       "      <td>0.999732</td>\n",
       "      <td>0.999472</td>\n",
       "      <td>0.999472</td>\n",
       "      <td>0.999450</td>\n",
       "      <td>0.999451</td>\n",
       "    </tr>\n",
       "    <tr>\n",
       "      <th>7</th>\n",
       "      <td>Bagging</td>\n",
       "      <td>1.000000</td>\n",
       "      <td>1.000000</td>\n",
       "      <td>1.000000</td>\n",
       "      <td>1.000000</td>\n",
       "      <td>0.999604</td>\n",
       "      <td>0.999604</td>\n",
       "      <td>0.999604</td>\n",
       "      <td>0.999604</td>\n",
       "    </tr>\n",
       "  </tbody>\n",
       "</table>\n",
       "</div>"
      ],
      "text/plain": [
       "                    Model  Train_Accuracy  Train_Recall  Train_Precision  \\\n",
       "0      LogisticRegression        0.997920      0.997920         0.995845   \n",
       "1      DecisionTree_model        0.999967      0.999967         0.999967   \n",
       "2                     KNN        0.997920      0.997920         0.995845   \n",
       "3  RandomForestClassifier        0.999934      0.999934         0.999934   \n",
       "4                     GBM        0.999505      0.999505         0.999505   \n",
       "5                 XGBoost        0.999983      0.999983         0.999983   \n",
       "6                Adaboost        0.999736      0.999736         0.999731   \n",
       "7                 Bagging        1.000000      1.000000         1.000000   \n",
       "\n",
       "   Train_F1_Score  Test_Accuracy  Test_Recall  Test_Precision  Test_F1_Score  \n",
       "0        0.996881       0.998151     0.998151        0.996306       0.997228  \n",
       "1        0.999967       0.999604     0.999604        0.999604       0.999604  \n",
       "2        0.996881       0.998151     0.998151        0.996306       0.997228  \n",
       "3        0.999934       0.999142     0.999142        0.999102       0.999117  \n",
       "4        0.999471       0.999142     0.999142        0.999142       0.999012  \n",
       "5        0.999983       0.999538     0.999538        0.999522       0.999525  \n",
       "6        0.999732       0.999472     0.999472        0.999450       0.999451  \n",
       "7        1.000000       0.999604     0.999604        0.999604       0.999604  "
      ]
     },
     "execution_count": 95,
     "metadata": {},
     "output_type": "execute_result"
    }
   ],
   "source": [
    "scores = get_metrics(y_train, bagging_y2, y_test, bagging_y, \"Bagging\", scores)\n",
    "scores"
   ]
  },
  {
   "cell_type": "markdown",
   "id": "a8880143",
   "metadata": {},
   "source": [
    "# SVM"
   ]
  },
  {
   "cell_type": "code",
   "execution_count": 96,
   "id": "d5d468ad",
   "metadata": {},
   "outputs": [],
   "source": [
    "from sklearn import svm\n",
    "from sklearn.datasets import make_classification"
   ]
  },
  {
   "cell_type": "code",
   "execution_count": 97,
   "id": "95db1212",
   "metadata": {},
   "outputs": [],
   "source": [
    "classes =4\n",
    "X,y= make_classification(100, 5, n_classes = classes, random_state= 40, n_informative = 2, n_clusters_per_class = 1)\n",
    "\n",
    "X_train, X_test, y_train, y_test=  train_test_split(X, y , test_size=0.2)"
   ]
  },
  {
   "cell_type": "code",
   "execution_count": 98,
   "id": "469daf76",
   "metadata": {},
   "outputs": [],
   "source": [
    "model = svm.SVC(kernel = 'linear', random_state = 0, )"
   ]
  },
  {
   "cell_type": "code",
   "execution_count": 99,
   "id": "e4976fc5",
   "metadata": {},
   "outputs": [
    {
     "data": {
      "text/plain": [
       "SVC(kernel='linear', random_state=0)"
      ]
     },
     "execution_count": 99,
     "metadata": {},
     "output_type": "execute_result"
    }
   ],
   "source": [
    "model.fit(X_train, y_train)"
   ]
  },
  {
   "cell_type": "code",
   "execution_count": 100,
   "id": "60c2d346",
   "metadata": {},
   "outputs": [],
   "source": [
    "y=model.predict(X_test)\n",
    "y2=model.predict(X_train)"
   ]
  },
  {
   "cell_type": "code",
   "execution_count": 101,
   "id": "06aebb6d",
   "metadata": {},
   "outputs": [
    {
     "name": "stdout",
     "output_type": "stream",
     "text": [
      "              precision    recall  f1-score   support\n",
      "\n",
      "           0       1.00      1.00      1.00         3\n",
      "           1       1.00      1.00      1.00         8\n",
      "           2       1.00      1.00      1.00         4\n",
      "           3       1.00      1.00      1.00         5\n",
      "\n",
      "    accuracy                           1.00        20\n",
      "   macro avg       1.00      1.00      1.00        20\n",
      "weighted avg       1.00      1.00      1.00        20\n",
      "\n"
     ]
    }
   ],
   "source": [
    "print(classification_report(y_test,y))"
   ]
  },
  {
   "cell_type": "code",
   "execution_count": 102,
   "id": "0c50095c",
   "metadata": {},
   "outputs": [
    {
     "name": "stdout",
     "output_type": "stream",
     "text": [
      "              precision    recall  f1-score   support\n",
      "\n",
      "           0       0.95      0.86      0.90        22\n",
      "           1       0.77      1.00      0.87        17\n",
      "           2       1.00      0.95      0.98        21\n",
      "           3       0.94      0.85      0.89        20\n",
      "\n",
      "    accuracy                           0.91        80\n",
      "   macro avg       0.92      0.92      0.91        80\n",
      "weighted avg       0.92      0.91      0.91        80\n",
      "\n"
     ]
    }
   ],
   "source": [
    "print(classification_report(y_train, y2))"
   ]
  },
  {
   "cell_type": "code",
   "execution_count": 103,
   "id": "25d0412e",
   "metadata": {},
   "outputs": [
    {
     "data": {
      "text/html": [
       "<div>\n",
       "<style scoped>\n",
       "    .dataframe tbody tr th:only-of-type {\n",
       "        vertical-align: middle;\n",
       "    }\n",
       "\n",
       "    .dataframe tbody tr th {\n",
       "        vertical-align: top;\n",
       "    }\n",
       "\n",
       "    .dataframe thead th {\n",
       "        text-align: right;\n",
       "    }\n",
       "</style>\n",
       "<table border=\"1\" class=\"dataframe\">\n",
       "  <thead>\n",
       "    <tr style=\"text-align: right;\">\n",
       "      <th></th>\n",
       "      <th>Model</th>\n",
       "      <th>Train_Accuracy</th>\n",
       "      <th>Train_Recall</th>\n",
       "      <th>Train_Precision</th>\n",
       "      <th>Train_F1_Score</th>\n",
       "      <th>Test_Accuracy</th>\n",
       "      <th>Test_Recall</th>\n",
       "      <th>Test_Precision</th>\n",
       "      <th>Test_F1_Score</th>\n",
       "    </tr>\n",
       "  </thead>\n",
       "  <tbody>\n",
       "    <tr>\n",
       "      <th>0</th>\n",
       "      <td>LogisticRegression</td>\n",
       "      <td>0.997920</td>\n",
       "      <td>0.997920</td>\n",
       "      <td>0.995845</td>\n",
       "      <td>0.996881</td>\n",
       "      <td>0.998151</td>\n",
       "      <td>0.998151</td>\n",
       "      <td>0.996306</td>\n",
       "      <td>0.997228</td>\n",
       "    </tr>\n",
       "    <tr>\n",
       "      <th>1</th>\n",
       "      <td>DecisionTree_model</td>\n",
       "      <td>0.999967</td>\n",
       "      <td>0.999967</td>\n",
       "      <td>0.999967</td>\n",
       "      <td>0.999967</td>\n",
       "      <td>0.999604</td>\n",
       "      <td>0.999604</td>\n",
       "      <td>0.999604</td>\n",
       "      <td>0.999604</td>\n",
       "    </tr>\n",
       "    <tr>\n",
       "      <th>2</th>\n",
       "      <td>KNN</td>\n",
       "      <td>0.997920</td>\n",
       "      <td>0.997920</td>\n",
       "      <td>0.995845</td>\n",
       "      <td>0.996881</td>\n",
       "      <td>0.998151</td>\n",
       "      <td>0.998151</td>\n",
       "      <td>0.996306</td>\n",
       "      <td>0.997228</td>\n",
       "    </tr>\n",
       "    <tr>\n",
       "      <th>3</th>\n",
       "      <td>RandomForestClassifier</td>\n",
       "      <td>0.999934</td>\n",
       "      <td>0.999934</td>\n",
       "      <td>0.999934</td>\n",
       "      <td>0.999934</td>\n",
       "      <td>0.999142</td>\n",
       "      <td>0.999142</td>\n",
       "      <td>0.999102</td>\n",
       "      <td>0.999117</td>\n",
       "    </tr>\n",
       "    <tr>\n",
       "      <th>4</th>\n",
       "      <td>GBM</td>\n",
       "      <td>0.999505</td>\n",
       "      <td>0.999505</td>\n",
       "      <td>0.999505</td>\n",
       "      <td>0.999471</td>\n",
       "      <td>0.999142</td>\n",
       "      <td>0.999142</td>\n",
       "      <td>0.999142</td>\n",
       "      <td>0.999012</td>\n",
       "    </tr>\n",
       "    <tr>\n",
       "      <th>5</th>\n",
       "      <td>XGBoost</td>\n",
       "      <td>0.999983</td>\n",
       "      <td>0.999983</td>\n",
       "      <td>0.999983</td>\n",
       "      <td>0.999983</td>\n",
       "      <td>0.999538</td>\n",
       "      <td>0.999538</td>\n",
       "      <td>0.999522</td>\n",
       "      <td>0.999525</td>\n",
       "    </tr>\n",
       "    <tr>\n",
       "      <th>6</th>\n",
       "      <td>Adaboost</td>\n",
       "      <td>0.999736</td>\n",
       "      <td>0.999736</td>\n",
       "      <td>0.999731</td>\n",
       "      <td>0.999732</td>\n",
       "      <td>0.999472</td>\n",
       "      <td>0.999472</td>\n",
       "      <td>0.999450</td>\n",
       "      <td>0.999451</td>\n",
       "    </tr>\n",
       "    <tr>\n",
       "      <th>7</th>\n",
       "      <td>Bagging</td>\n",
       "      <td>1.000000</td>\n",
       "      <td>1.000000</td>\n",
       "      <td>1.000000</td>\n",
       "      <td>1.000000</td>\n",
       "      <td>0.999604</td>\n",
       "      <td>0.999604</td>\n",
       "      <td>0.999604</td>\n",
       "      <td>0.999604</td>\n",
       "    </tr>\n",
       "    <tr>\n",
       "      <th>8</th>\n",
       "      <td>SVM</td>\n",
       "      <td>0.912500</td>\n",
       "      <td>0.912500</td>\n",
       "      <td>0.924066</td>\n",
       "      <td>0.913848</td>\n",
       "      <td>1.000000</td>\n",
       "      <td>1.000000</td>\n",
       "      <td>1.000000</td>\n",
       "      <td>1.000000</td>\n",
       "    </tr>\n",
       "  </tbody>\n",
       "</table>\n",
       "</div>"
      ],
      "text/plain": [
       "                    Model  Train_Accuracy  Train_Recall  Train_Precision  \\\n",
       "0      LogisticRegression        0.997920      0.997920         0.995845   \n",
       "1      DecisionTree_model        0.999967      0.999967         0.999967   \n",
       "2                     KNN        0.997920      0.997920         0.995845   \n",
       "3  RandomForestClassifier        0.999934      0.999934         0.999934   \n",
       "4                     GBM        0.999505      0.999505         0.999505   \n",
       "5                 XGBoost        0.999983      0.999983         0.999983   \n",
       "6                Adaboost        0.999736      0.999736         0.999731   \n",
       "7                 Bagging        1.000000      1.000000         1.000000   \n",
       "8                     SVM        0.912500      0.912500         0.924066   \n",
       "\n",
       "   Train_F1_Score  Test_Accuracy  Test_Recall  Test_Precision  Test_F1_Score  \n",
       "0        0.996881       0.998151     0.998151        0.996306       0.997228  \n",
       "1        0.999967       0.999604     0.999604        0.999604       0.999604  \n",
       "2        0.996881       0.998151     0.998151        0.996306       0.997228  \n",
       "3        0.999934       0.999142     0.999142        0.999102       0.999117  \n",
       "4        0.999471       0.999142     0.999142        0.999142       0.999012  \n",
       "5        0.999983       0.999538     0.999538        0.999522       0.999525  \n",
       "6        0.999732       0.999472     0.999472        0.999450       0.999451  \n",
       "7        1.000000       0.999604     0.999604        0.999604       0.999604  \n",
       "8        0.913848       1.000000     1.000000        1.000000       1.000000  "
      ]
     },
     "execution_count": 103,
     "metadata": {},
     "output_type": "execute_result"
    }
   ],
   "source": [
    "scores = get_metrics(y_train, y2, y_test, y, \"SVM\", scores)\n",
    "scores"
   ]
  },
  {
   "cell_type": "markdown",
   "id": "d99d4165",
   "metadata": {},
   "source": [
    "# Read the test data"
   ]
  },
  {
   "cell_type": "code",
   "execution_count": 104,
   "id": "b20417f1",
   "metadata": {},
   "outputs": [],
   "source": [
    "test = pd.read_csv(\"C:/Users/ADMIN/Desktop/Insofe/Hackathon/Payment_gateway_hack/Payment_gateway_hack/test_data.csv\")"
   ]
  },
  {
   "cell_type": "code",
   "execution_count": 105,
   "id": "41c42f86",
   "metadata": {},
   "outputs": [
    {
     "data": {
      "text/html": [
       "<div>\n",
       "<style scoped>\n",
       "    .dataframe tbody tr th:only-of-type {\n",
       "        vertical-align: middle;\n",
       "    }\n",
       "\n",
       "    .dataframe tbody tr th {\n",
       "        vertical-align: top;\n",
       "    }\n",
       "\n",
       "    .dataframe thead th {\n",
       "        text-align: right;\n",
       "    }\n",
       "</style>\n",
       "<table border=\"1\" class=\"dataframe\">\n",
       "  <thead>\n",
       "    <tr style=\"text-align: right;\">\n",
       "      <th></th>\n",
       "      <th>transaction_number</th>\n",
       "      <th>user_id</th>\n",
       "      <th>payment_method</th>\n",
       "      <th>partner_id</th>\n",
       "      <th>partner_category</th>\n",
       "      <th>country</th>\n",
       "      <th>device_type</th>\n",
       "      <th>money_transacted</th>\n",
       "      <th>partner_pricing_category</th>\n",
       "    </tr>\n",
       "  </thead>\n",
       "  <tbody>\n",
       "    <tr>\n",
       "      <th>0</th>\n",
       "      <td>8.570500e+14</td>\n",
       "      <td>3802500</td>\n",
       "      <td>visa_master_debit_cards</td>\n",
       "      <td>118335</td>\n",
       "      <td>cat_1</td>\n",
       "      <td>IND_INR</td>\n",
       "      <td>other_pcs</td>\n",
       "      <td>200.0</td>\n",
       "      <td>2</td>\n",
       "    </tr>\n",
       "    <tr>\n",
       "      <th>1</th>\n",
       "      <td>4.400460e+12</td>\n",
       "      <td>200704</td>\n",
       "      <td>e_wallet_payments</td>\n",
       "      <td>23667</td>\n",
       "      <td>cat_2</td>\n",
       "      <td>IND_INR</td>\n",
       "      <td>other_pcs</td>\n",
       "      <td>20.0</td>\n",
       "      <td>2</td>\n",
       "    </tr>\n",
       "    <tr>\n",
       "      <th>2</th>\n",
       "      <td>1.207920e+15</td>\n",
       "      <td>25150225</td>\n",
       "      <td>sbi_atm_cum_debit_card</td>\n",
       "      <td>47334</td>\n",
       "      <td>cat_1</td>\n",
       "      <td>IND_INR</td>\n",
       "      <td>android_devices</td>\n",
       "      <td>-100.0</td>\n",
       "      <td>2</td>\n",
       "    </tr>\n",
       "    <tr>\n",
       "      <th>3</th>\n",
       "      <td>2.009730e+15</td>\n",
       "      <td>21827584</td>\n",
       "      <td>visa_master_credit_cards</td>\n",
       "      <td>78890</td>\n",
       "      <td>cat_2</td>\n",
       "      <td>IND_INR</td>\n",
       "      <td>other_pcs</td>\n",
       "      <td>200.0</td>\n",
       "      <td>1</td>\n",
       "    </tr>\n",
       "    <tr>\n",
       "      <th>4</th>\n",
       "      <td>2.319210e+15</td>\n",
       "      <td>576081</td>\n",
       "      <td>e_wallet_payments</td>\n",
       "      <td>23667</td>\n",
       "      <td>cat_2</td>\n",
       "      <td>IND_INR</td>\n",
       "      <td>other_pcs</td>\n",
       "      <td>100.0</td>\n",
       "      <td>2</td>\n",
       "    </tr>\n",
       "  </tbody>\n",
       "</table>\n",
       "</div>"
      ],
      "text/plain": [
       "   transaction_number   user_id            payment_method  partner_id  \\\n",
       "0        8.570500e+14   3802500   visa_master_debit_cards      118335   \n",
       "1        4.400460e+12    200704         e_wallet_payments       23667   \n",
       "2        1.207920e+15  25150225    sbi_atm_cum_debit_card       47334   \n",
       "3        2.009730e+15  21827584  visa_master_credit_cards       78890   \n",
       "4        2.319210e+15    576081         e_wallet_payments       23667   \n",
       "\n",
       "  partner_category  country      device_type  money_transacted  \\\n",
       "0            cat_1  IND_INR        other_pcs             200.0   \n",
       "1            cat_2  IND_INR        other_pcs              20.0   \n",
       "2            cat_1  IND_INR  android_devices            -100.0   \n",
       "3            cat_2  IND_INR        other_pcs             200.0   \n",
       "4            cat_2  IND_INR        other_pcs             100.0   \n",
       "\n",
       "   partner_pricing_category  \n",
       "0                         2  \n",
       "1                         2  \n",
       "2                         2  \n",
       "3                         1  \n",
       "4                         2  "
      ]
     },
     "execution_count": 105,
     "metadata": {},
     "output_type": "execute_result"
    }
   ],
   "source": [
    "test.head()"
   ]
  },
  {
   "cell_type": "code",
   "execution_count": 106,
   "id": "0b57269e",
   "metadata": {},
   "outputs": [],
   "source": [
    "#for LabelEncoding\n",
    "from sklearn.preprocessing import LabelEncoder\n",
    "\n",
    "label_encoder = LabelEncoder()"
   ]
  },
  {
   "cell_type": "code",
   "execution_count": 107,
   "id": "e2148d5b",
   "metadata": {},
   "outputs": [
    {
     "data": {
      "text/plain": [
       "Index(['payment_method', 'partner_category', 'country', 'device_type'], dtype='object')"
      ]
     },
     "execution_count": 107,
     "metadata": {},
     "output_type": "execute_result"
    }
   ],
   "source": [
    "data_n = test.select_dtypes(exclude=np.number).columns\n",
    "data_n"
   ]
  },
  {
   "cell_type": "code",
   "execution_count": 108,
   "id": "d894567f",
   "metadata": {},
   "outputs": [
    {
     "data": {
      "text/html": [
       "<div>\n",
       "<style scoped>\n",
       "    .dataframe tbody tr th:only-of-type {\n",
       "        vertical-align: middle;\n",
       "    }\n",
       "\n",
       "    .dataframe tbody tr th {\n",
       "        vertical-align: top;\n",
       "    }\n",
       "\n",
       "    .dataframe thead th {\n",
       "        text-align: right;\n",
       "    }\n",
       "</style>\n",
       "<table border=\"1\" class=\"dataframe\">\n",
       "  <thead>\n",
       "    <tr style=\"text-align: right;\">\n",
       "      <th></th>\n",
       "      <th>transaction_number</th>\n",
       "      <th>user_id</th>\n",
       "      <th>payment_method</th>\n",
       "      <th>partner_id</th>\n",
       "      <th>partner_category</th>\n",
       "      <th>country</th>\n",
       "      <th>device_type</th>\n",
       "      <th>money_transacted</th>\n",
       "      <th>partner_pricing_category</th>\n",
       "    </tr>\n",
       "  </thead>\n",
       "  <tbody>\n",
       "    <tr>\n",
       "      <th>0</th>\n",
       "      <td>8.570500e+14</td>\n",
       "      <td>3802500</td>\n",
       "      <td>5</td>\n",
       "      <td>118335</td>\n",
       "      <td>0</td>\n",
       "      <td>0</td>\n",
       "      <td>2</td>\n",
       "      <td>200.0</td>\n",
       "      <td>2</td>\n",
       "    </tr>\n",
       "    <tr>\n",
       "      <th>1</th>\n",
       "      <td>4.400460e+12</td>\n",
       "      <td>200704</td>\n",
       "      <td>0</td>\n",
       "      <td>23667</td>\n",
       "      <td>1</td>\n",
       "      <td>0</td>\n",
       "      <td>2</td>\n",
       "      <td>20.0</td>\n",
       "      <td>2</td>\n",
       "    </tr>\n",
       "    <tr>\n",
       "      <th>2</th>\n",
       "      <td>1.207920e+15</td>\n",
       "      <td>25150225</td>\n",
       "      <td>2</td>\n",
       "      <td>47334</td>\n",
       "      <td>0</td>\n",
       "      <td>0</td>\n",
       "      <td>0</td>\n",
       "      <td>-100.0</td>\n",
       "      <td>2</td>\n",
       "    </tr>\n",
       "    <tr>\n",
       "      <th>3</th>\n",
       "      <td>2.009730e+15</td>\n",
       "      <td>21827584</td>\n",
       "      <td>4</td>\n",
       "      <td>78890</td>\n",
       "      <td>1</td>\n",
       "      <td>0</td>\n",
       "      <td>2</td>\n",
       "      <td>200.0</td>\n",
       "      <td>1</td>\n",
       "    </tr>\n",
       "    <tr>\n",
       "      <th>4</th>\n",
       "      <td>2.319210e+15</td>\n",
       "      <td>576081</td>\n",
       "      <td>0</td>\n",
       "      <td>23667</td>\n",
       "      <td>1</td>\n",
       "      <td>0</td>\n",
       "      <td>2</td>\n",
       "      <td>100.0</td>\n",
       "      <td>2</td>\n",
       "    </tr>\n",
       "  </tbody>\n",
       "</table>\n",
       "</div>"
      ],
      "text/plain": [
       "   transaction_number   user_id  payment_method  partner_id  partner_category  \\\n",
       "0        8.570500e+14   3802500               5      118335                 0   \n",
       "1        4.400460e+12    200704               0       23667                 1   \n",
       "2        1.207920e+15  25150225               2       47334                 0   \n",
       "3        2.009730e+15  21827584               4       78890                 1   \n",
       "4        2.319210e+15    576081               0       23667                 1   \n",
       "\n",
       "   country  device_type  money_transacted  partner_pricing_category  \n",
       "0        0            2             200.0                         2  \n",
       "1        0            2              20.0                         2  \n",
       "2        0            0            -100.0                         2  \n",
       "3        0            2             200.0                         1  \n",
       "4        0            2             100.0                         2  "
      ]
     },
     "execution_count": 108,
     "metadata": {},
     "output_type": "execute_result"
    }
   ],
   "source": [
    "for i in data_n:\n",
    "    test[i] = label_encoder.fit_transform(test[i])\n",
    "test.head()\n"
   ]
  },
  {
   "cell_type": "code",
   "execution_count": 109,
   "id": "cffacc45",
   "metadata": {},
   "outputs": [],
   "source": [
    "test_data = test.drop(['country',],axis=1) "
   ]
  },
  {
   "cell_type": "code",
   "execution_count": 110,
   "id": "5ca34c1d",
   "metadata": {},
   "outputs": [],
   "source": [
    "final_pred = classifier.predict(test_data)"
   ]
  },
  {
   "cell_type": "code",
   "execution_count": 111,
   "id": "f93d7b76",
   "metadata": {},
   "outputs": [
    {
     "data": {
      "text/plain": [
       "(19133,)"
      ]
     },
     "execution_count": 111,
     "metadata": {},
     "output_type": "execute_result"
    }
   ],
   "source": [
    "final_pred.shape"
   ]
  },
  {
   "cell_type": "code",
   "execution_count": 112,
   "id": "e2e9ff70",
   "metadata": {},
   "outputs": [],
   "source": [
    "final_pred=pd.DataFrame(final_pred)"
   ]
  },
  {
   "cell_type": "code",
   "execution_count": 113,
   "id": "e83b7702",
   "metadata": {},
   "outputs": [],
   "source": [
    "predict = classifier.predict(test_data)"
   ]
  },
  {
   "cell_type": "code",
   "execution_count": 114,
   "id": "50362494",
   "metadata": {
    "scrolled": true
   },
   "outputs": [],
   "source": [
    "Final_data = pd.concat([test['transaction_number'],final_pred],axis = 1).dropna()"
   ]
  },
  {
   "cell_type": "code",
   "execution_count": 115,
   "id": "172eb7c9",
   "metadata": {},
   "outputs": [],
   "source": [
    "Final_data.rename(columns={0:'is_fraud'},inplace=True)"
   ]
  },
  {
   "cell_type": "code",
   "execution_count": 116,
   "id": "4652d630",
   "metadata": {},
   "outputs": [
    {
     "data": {
      "text/html": [
       "<div>\n",
       "<style scoped>\n",
       "    .dataframe tbody tr th:only-of-type {\n",
       "        vertical-align: middle;\n",
       "    }\n",
       "\n",
       "    .dataframe tbody tr th {\n",
       "        vertical-align: top;\n",
       "    }\n",
       "\n",
       "    .dataframe thead th {\n",
       "        text-align: right;\n",
       "    }\n",
       "</style>\n",
       "<table border=\"1\" class=\"dataframe\">\n",
       "  <thead>\n",
       "    <tr style=\"text-align: right;\">\n",
       "      <th></th>\n",
       "      <th>transaction_number</th>\n",
       "      <th>is_fraud</th>\n",
       "    </tr>\n",
       "  </thead>\n",
       "  <tbody>\n",
       "    <tr>\n",
       "      <th>0</th>\n",
       "      <td>8.570500e+14</td>\n",
       "      <td>0</td>\n",
       "    </tr>\n",
       "    <tr>\n",
       "      <th>1</th>\n",
       "      <td>4.400460e+12</td>\n",
       "      <td>0</td>\n",
       "    </tr>\n",
       "    <tr>\n",
       "      <th>2</th>\n",
       "      <td>1.207920e+15</td>\n",
       "      <td>0</td>\n",
       "    </tr>\n",
       "    <tr>\n",
       "      <th>3</th>\n",
       "      <td>2.009730e+15</td>\n",
       "      <td>0</td>\n",
       "    </tr>\n",
       "    <tr>\n",
       "      <th>4</th>\n",
       "      <td>2.319210e+15</td>\n",
       "      <td>0</td>\n",
       "    </tr>\n",
       "    <tr>\n",
       "      <th>...</th>\n",
       "      <td>...</td>\n",
       "      <td>...</td>\n",
       "    </tr>\n",
       "    <tr>\n",
       "      <th>19128</th>\n",
       "      <td>5.332780e+12</td>\n",
       "      <td>0</td>\n",
       "    </tr>\n",
       "    <tr>\n",
       "      <th>19129</th>\n",
       "      <td>9.392630e+14</td>\n",
       "      <td>0</td>\n",
       "    </tr>\n",
       "    <tr>\n",
       "      <th>19130</th>\n",
       "      <td>1.832460e+13</td>\n",
       "      <td>0</td>\n",
       "    </tr>\n",
       "    <tr>\n",
       "      <th>19131</th>\n",
       "      <td>8.934740e+14</td>\n",
       "      <td>0</td>\n",
       "    </tr>\n",
       "    <tr>\n",
       "      <th>19132</th>\n",
       "      <td>8.439080e+13</td>\n",
       "      <td>0</td>\n",
       "    </tr>\n",
       "  </tbody>\n",
       "</table>\n",
       "<p>19133 rows × 2 columns</p>\n",
       "</div>"
      ],
      "text/plain": [
       "       transaction_number  is_fraud\n",
       "0            8.570500e+14         0\n",
       "1            4.400460e+12         0\n",
       "2            1.207920e+15         0\n",
       "3            2.009730e+15         0\n",
       "4            2.319210e+15         0\n",
       "...                   ...       ...\n",
       "19128        5.332780e+12         0\n",
       "19129        9.392630e+14         0\n",
       "19130        1.832460e+13         0\n",
       "19131        8.934740e+14         0\n",
       "19132        8.439080e+13         0\n",
       "\n",
       "[19133 rows x 2 columns]"
      ]
     },
     "execution_count": 116,
     "metadata": {},
     "output_type": "execute_result"
    }
   ],
   "source": [
    "Final_data"
   ]
  },
  {
   "cell_type": "code",
   "execution_count": 117,
   "id": "4a5a8d40",
   "metadata": {},
   "outputs": [],
   "source": [
    "#Final_data.to_csv('Fraud Transaction Details.csv')"
   ]
  },
  {
   "cell_type": "code",
   "execution_count": null,
   "id": "5b5fa734",
   "metadata": {},
   "outputs": [],
   "source": []
  }
 ],
 "metadata": {
  "kernelspec": {
   "display_name": "Python 3 (ipykernel)",
   "language": "python",
   "name": "python3"
  },
  "language_info": {
   "codemirror_mode": {
    "name": "ipython",
    "version": 3
   },
   "file_extension": ".py",
   "mimetype": "text/x-python",
   "name": "python",
   "nbconvert_exporter": "python",
   "pygments_lexer": "ipython3",
   "version": "3.9.7"
  }
 },
 "nbformat": 4,
 "nbformat_minor": 5
}
